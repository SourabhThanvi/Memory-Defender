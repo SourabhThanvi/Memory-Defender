{
  "nbformat": 4,
  "nbformat_minor": 0,
  "metadata": {
    "colab": {
      "provenance": []
    },
    "kernelspec": {
      "name": "python3",
      "display_name": "Python 3"
    },
    "language_info": {
      "name": "python"
    }
  },
  "cells": [
    {
      "cell_type": "markdown",
      "source": [
        "## Dataset Link :- https://www.kaggle.com/datasets/luccagodoy/obfuscated-malware-memory-2022-cic"
      ],
      "metadata": {
        "id": "gnWaY9N3E6mu"
      }
    },
    {
      "cell_type": "markdown",
      "source": [
        "## Fetching Data From Kaggle"
      ],
      "metadata": {
        "id": "byNIDvGFZfaO"
      }
    },
    {
      "cell_type": "code",
      "execution_count": 1,
      "metadata": {
        "colab": {
          "base_uri": "https://localhost:8080/"
        },
        "id": "ymv6nzPnEy70",
        "outputId": "3f97346a-69ab-4107-d52c-74623f14376e"
      },
      "outputs": [
        {
          "output_type": "stream",
          "name": "stdout",
          "text": [
            "cp: cannot create regular file '/root/.kaggle/': Not a directory\n"
          ]
        }
      ],
      "source": [
        "!mkdir -p ./kaggle\n",
        "!cp kaggle.json ~/.kaggle/"
      ]
    },
    {
      "cell_type": "code",
      "source": [
        "!kaggle datasets download -d luccagodoy/obfuscated-malware-memory-2022-cic"
      ],
      "metadata": {
        "colab": {
          "base_uri": "https://localhost:8080/"
        },
        "id": "Nrjjkpg2FRv5",
        "outputId": "5645f6f1-fc0a-443b-878c-191e46eaa59c"
      },
      "execution_count": 2,
      "outputs": [
        {
          "output_type": "stream",
          "name": "stdout",
          "text": [
            "Warning: Looks like you're using an outdated API Version, please consider updating (server 1.6.14 / client 1.6.12)\n",
            "Dataset URL: https://www.kaggle.com/datasets/luccagodoy/obfuscated-malware-memory-2022-cic\n",
            "License(s): copyright-authors\n",
            "Downloading obfuscated-malware-memory-2022-cic.zip to /content\n",
            "  0% 0.00/3.84M [00:00<?, ?B/s]\n",
            "100% 3.84M/3.84M [00:00<00:00, 56.1MB/s]\n"
          ]
        }
      ]
    },
    {
      "cell_type": "code",
      "source": [
        "!unzip /content/obfuscated-malware-memory-2022-cic.zip -d /content/"
      ],
      "metadata": {
        "colab": {
          "base_uri": "https://localhost:8080/"
        },
        "id": "V8kTRiIbFWeT",
        "outputId": "d308c43b-3016-4160-8fce-ab57d98e95ee"
      },
      "execution_count": 3,
      "outputs": [
        {
          "output_type": "stream",
          "name": "stdout",
          "text": [
            "Archive:  /content/obfuscated-malware-memory-2022-cic.zip\n",
            "  inflating: /content/Obfuscated-MalMem2022.csv  \n"
          ]
        }
      ]
    },
    {
      "cell_type": "code",
      "source": [
        "import pandas as pd\n",
        "import numpy as np\n",
        "import matplotlib.pyplot as plt"
      ],
      "metadata": {
        "id": "c3WDMuo5FfRJ"
      },
      "execution_count": 4,
      "outputs": []
    },
    {
      "cell_type": "code",
      "source": [
        "df = pd.read_csv('/content/Obfuscated-MalMem2022.csv')"
      ],
      "metadata": {
        "id": "IQdjTgmZFqnf"
      },
      "execution_count": 5,
      "outputs": []
    },
    {
      "cell_type": "code",
      "source": [
        "df.head()"
      ],
      "metadata": {
        "colab": {
          "base_uri": "https://localhost:8080/",
          "height": 255
        },
        "id": "NcXHTdddFtw4",
        "outputId": "6312dc28-3e9e-4f50-b279-461e83352ca7"
      },
      "execution_count": 6,
      "outputs": [
        {
          "output_type": "execute_result",
          "data": {
            "text/plain": [
              "  Category  pslist.nproc  pslist.nppid  pslist.avg_threads  \\\n",
              "0   Benign            45            17           10.555556   \n",
              "1   Benign            47            19           11.531915   \n",
              "2   Benign            40            14           14.725000   \n",
              "3   Benign            32            13           13.500000   \n",
              "4   Benign            42            16           11.452381   \n",
              "\n",
              "   pslist.nprocs64bit  pslist.avg_handlers  dlllist.ndlls  \\\n",
              "0                   0           202.844444           1694   \n",
              "1                   0           242.234043           2074   \n",
              "2                   0           288.225000           1932   \n",
              "3                   0           264.281250           1445   \n",
              "4                   0           281.333333           2067   \n",
              "\n",
              "   dlllist.avg_dlls_per_proc  handles.nhandles  handles.avg_handles_per_proc  \\\n",
              "0                  38.500000              9129                    212.302326   \n",
              "1                  44.127660             11385                    242.234043   \n",
              "2                  48.300000             11529                    288.225000   \n",
              "3                  45.156250              8457                    264.281250   \n",
              "4                  49.214286             11816                    281.333333   \n",
              "\n",
              "   ...  svcscan.kernel_drivers  svcscan.fs_drivers  svcscan.process_services  \\\n",
              "0  ...                     221                  26                        24   \n",
              "1  ...                     222                  26                        24   \n",
              "2  ...                     222                  26                        27   \n",
              "3  ...                     222                  26                        27   \n",
              "4  ...                     222                  26                        24   \n",
              "\n",
              "   svcscan.shared_process_services  svcscan.interactive_process_services  \\\n",
              "0                              116                                     0   \n",
              "1                              118                                     0   \n",
              "2                              118                                     0   \n",
              "3                              118                                     0   \n",
              "4                              118                                     0   \n",
              "\n",
              "   svcscan.nactive  callbacks.ncallbacks  callbacks.nanonymous  \\\n",
              "0              121                    87                     0   \n",
              "1              122                    87                     0   \n",
              "2              120                    88                     0   \n",
              "3              120                    88                     0   \n",
              "4              124                    87                     0   \n",
              "\n",
              "   callbacks.ngeneric   Class  \n",
              "0                   8  Benign  \n",
              "1                   8  Benign  \n",
              "2                   8  Benign  \n",
              "3                   8  Benign  \n",
              "4                   8  Benign  \n",
              "\n",
              "[5 rows x 57 columns]"
            ],
            "text/html": [
              "\n",
              "  <div id=\"df-40e2dfce-e467-40b2-9dae-978cabf6e719\" class=\"colab-df-container\">\n",
              "    <div>\n",
              "<style scoped>\n",
              "    .dataframe tbody tr th:only-of-type {\n",
              "        vertical-align: middle;\n",
              "    }\n",
              "\n",
              "    .dataframe tbody tr th {\n",
              "        vertical-align: top;\n",
              "    }\n",
              "\n",
              "    .dataframe thead th {\n",
              "        text-align: right;\n",
              "    }\n",
              "</style>\n",
              "<table border=\"1\" class=\"dataframe\">\n",
              "  <thead>\n",
              "    <tr style=\"text-align: right;\">\n",
              "      <th></th>\n",
              "      <th>Category</th>\n",
              "      <th>pslist.nproc</th>\n",
              "      <th>pslist.nppid</th>\n",
              "      <th>pslist.avg_threads</th>\n",
              "      <th>pslist.nprocs64bit</th>\n",
              "      <th>pslist.avg_handlers</th>\n",
              "      <th>dlllist.ndlls</th>\n",
              "      <th>dlllist.avg_dlls_per_proc</th>\n",
              "      <th>handles.nhandles</th>\n",
              "      <th>handles.avg_handles_per_proc</th>\n",
              "      <th>...</th>\n",
              "      <th>svcscan.kernel_drivers</th>\n",
              "      <th>svcscan.fs_drivers</th>\n",
              "      <th>svcscan.process_services</th>\n",
              "      <th>svcscan.shared_process_services</th>\n",
              "      <th>svcscan.interactive_process_services</th>\n",
              "      <th>svcscan.nactive</th>\n",
              "      <th>callbacks.ncallbacks</th>\n",
              "      <th>callbacks.nanonymous</th>\n",
              "      <th>callbacks.ngeneric</th>\n",
              "      <th>Class</th>\n",
              "    </tr>\n",
              "  </thead>\n",
              "  <tbody>\n",
              "    <tr>\n",
              "      <th>0</th>\n",
              "      <td>Benign</td>\n",
              "      <td>45</td>\n",
              "      <td>17</td>\n",
              "      <td>10.555556</td>\n",
              "      <td>0</td>\n",
              "      <td>202.844444</td>\n",
              "      <td>1694</td>\n",
              "      <td>38.500000</td>\n",
              "      <td>9129</td>\n",
              "      <td>212.302326</td>\n",
              "      <td>...</td>\n",
              "      <td>221</td>\n",
              "      <td>26</td>\n",
              "      <td>24</td>\n",
              "      <td>116</td>\n",
              "      <td>0</td>\n",
              "      <td>121</td>\n",
              "      <td>87</td>\n",
              "      <td>0</td>\n",
              "      <td>8</td>\n",
              "      <td>Benign</td>\n",
              "    </tr>\n",
              "    <tr>\n",
              "      <th>1</th>\n",
              "      <td>Benign</td>\n",
              "      <td>47</td>\n",
              "      <td>19</td>\n",
              "      <td>11.531915</td>\n",
              "      <td>0</td>\n",
              "      <td>242.234043</td>\n",
              "      <td>2074</td>\n",
              "      <td>44.127660</td>\n",
              "      <td>11385</td>\n",
              "      <td>242.234043</td>\n",
              "      <td>...</td>\n",
              "      <td>222</td>\n",
              "      <td>26</td>\n",
              "      <td>24</td>\n",
              "      <td>118</td>\n",
              "      <td>0</td>\n",
              "      <td>122</td>\n",
              "      <td>87</td>\n",
              "      <td>0</td>\n",
              "      <td>8</td>\n",
              "      <td>Benign</td>\n",
              "    </tr>\n",
              "    <tr>\n",
              "      <th>2</th>\n",
              "      <td>Benign</td>\n",
              "      <td>40</td>\n",
              "      <td>14</td>\n",
              "      <td>14.725000</td>\n",
              "      <td>0</td>\n",
              "      <td>288.225000</td>\n",
              "      <td>1932</td>\n",
              "      <td>48.300000</td>\n",
              "      <td>11529</td>\n",
              "      <td>288.225000</td>\n",
              "      <td>...</td>\n",
              "      <td>222</td>\n",
              "      <td>26</td>\n",
              "      <td>27</td>\n",
              "      <td>118</td>\n",
              "      <td>0</td>\n",
              "      <td>120</td>\n",
              "      <td>88</td>\n",
              "      <td>0</td>\n",
              "      <td>8</td>\n",
              "      <td>Benign</td>\n",
              "    </tr>\n",
              "    <tr>\n",
              "      <th>3</th>\n",
              "      <td>Benign</td>\n",
              "      <td>32</td>\n",
              "      <td>13</td>\n",
              "      <td>13.500000</td>\n",
              "      <td>0</td>\n",
              "      <td>264.281250</td>\n",
              "      <td>1445</td>\n",
              "      <td>45.156250</td>\n",
              "      <td>8457</td>\n",
              "      <td>264.281250</td>\n",
              "      <td>...</td>\n",
              "      <td>222</td>\n",
              "      <td>26</td>\n",
              "      <td>27</td>\n",
              "      <td>118</td>\n",
              "      <td>0</td>\n",
              "      <td>120</td>\n",
              "      <td>88</td>\n",
              "      <td>0</td>\n",
              "      <td>8</td>\n",
              "      <td>Benign</td>\n",
              "    </tr>\n",
              "    <tr>\n",
              "      <th>4</th>\n",
              "      <td>Benign</td>\n",
              "      <td>42</td>\n",
              "      <td>16</td>\n",
              "      <td>11.452381</td>\n",
              "      <td>0</td>\n",
              "      <td>281.333333</td>\n",
              "      <td>2067</td>\n",
              "      <td>49.214286</td>\n",
              "      <td>11816</td>\n",
              "      <td>281.333333</td>\n",
              "      <td>...</td>\n",
              "      <td>222</td>\n",
              "      <td>26</td>\n",
              "      <td>24</td>\n",
              "      <td>118</td>\n",
              "      <td>0</td>\n",
              "      <td>124</td>\n",
              "      <td>87</td>\n",
              "      <td>0</td>\n",
              "      <td>8</td>\n",
              "      <td>Benign</td>\n",
              "    </tr>\n",
              "  </tbody>\n",
              "</table>\n",
              "<p>5 rows × 57 columns</p>\n",
              "</div>\n",
              "    <div class=\"colab-df-buttons\">\n",
              "\n",
              "  <div class=\"colab-df-container\">\n",
              "    <button class=\"colab-df-convert\" onclick=\"convertToInteractive('df-40e2dfce-e467-40b2-9dae-978cabf6e719')\"\n",
              "            title=\"Convert this dataframe to an interactive table.\"\n",
              "            style=\"display:none;\">\n",
              "\n",
              "  <svg xmlns=\"http://www.w3.org/2000/svg\" height=\"24px\" viewBox=\"0 -960 960 960\">\n",
              "    <path d=\"M120-120v-720h720v720H120Zm60-500h600v-160H180v160Zm220 220h160v-160H400v160Zm0 220h160v-160H400v160ZM180-400h160v-160H180v160Zm440 0h160v-160H620v160ZM180-180h160v-160H180v160Zm440 0h160v-160H620v160Z\"/>\n",
              "  </svg>\n",
              "    </button>\n",
              "\n",
              "  <style>\n",
              "    .colab-df-container {\n",
              "      display:flex;\n",
              "      gap: 12px;\n",
              "    }\n",
              "\n",
              "    .colab-df-convert {\n",
              "      background-color: #E8F0FE;\n",
              "      border: none;\n",
              "      border-radius: 50%;\n",
              "      cursor: pointer;\n",
              "      display: none;\n",
              "      fill: #1967D2;\n",
              "      height: 32px;\n",
              "      padding: 0 0 0 0;\n",
              "      width: 32px;\n",
              "    }\n",
              "\n",
              "    .colab-df-convert:hover {\n",
              "      background-color: #E2EBFA;\n",
              "      box-shadow: 0px 1px 2px rgba(60, 64, 67, 0.3), 0px 1px 3px 1px rgba(60, 64, 67, 0.15);\n",
              "      fill: #174EA6;\n",
              "    }\n",
              "\n",
              "    .colab-df-buttons div {\n",
              "      margin-bottom: 4px;\n",
              "    }\n",
              "\n",
              "    [theme=dark] .colab-df-convert {\n",
              "      background-color: #3B4455;\n",
              "      fill: #D2E3FC;\n",
              "    }\n",
              "\n",
              "    [theme=dark] .colab-df-convert:hover {\n",
              "      background-color: #434B5C;\n",
              "      box-shadow: 0px 1px 3px 1px rgba(0, 0, 0, 0.15);\n",
              "      filter: drop-shadow(0px 1px 2px rgba(0, 0, 0, 0.3));\n",
              "      fill: #FFFFFF;\n",
              "    }\n",
              "  </style>\n",
              "\n",
              "    <script>\n",
              "      const buttonEl =\n",
              "        document.querySelector('#df-40e2dfce-e467-40b2-9dae-978cabf6e719 button.colab-df-convert');\n",
              "      buttonEl.style.display =\n",
              "        google.colab.kernel.accessAllowed ? 'block' : 'none';\n",
              "\n",
              "      async function convertToInteractive(key) {\n",
              "        const element = document.querySelector('#df-40e2dfce-e467-40b2-9dae-978cabf6e719');\n",
              "        const dataTable =\n",
              "          await google.colab.kernel.invokeFunction('convertToInteractive',\n",
              "                                                    [key], {});\n",
              "        if (!dataTable) return;\n",
              "\n",
              "        const docLinkHtml = 'Like what you see? Visit the ' +\n",
              "          '<a target=\"_blank\" href=https://colab.research.google.com/notebooks/data_table.ipynb>data table notebook</a>'\n",
              "          + ' to learn more about interactive tables.';\n",
              "        element.innerHTML = '';\n",
              "        dataTable['output_type'] = 'display_data';\n",
              "        await google.colab.output.renderOutput(dataTable, element);\n",
              "        const docLink = document.createElement('div');\n",
              "        docLink.innerHTML = docLinkHtml;\n",
              "        element.appendChild(docLink);\n",
              "      }\n",
              "    </script>\n",
              "  </div>\n",
              "\n",
              "\n",
              "<div id=\"df-64eb0b5f-1296-40e4-9794-464500045b24\">\n",
              "  <button class=\"colab-df-quickchart\" onclick=\"quickchart('df-64eb0b5f-1296-40e4-9794-464500045b24')\"\n",
              "            title=\"Suggest charts\"\n",
              "            style=\"display:none;\">\n",
              "\n",
              "<svg xmlns=\"http://www.w3.org/2000/svg\" height=\"24px\"viewBox=\"0 0 24 24\"\n",
              "     width=\"24px\">\n",
              "    <g>\n",
              "        <path d=\"M19 3H5c-1.1 0-2 .9-2 2v14c0 1.1.9 2 2 2h14c1.1 0 2-.9 2-2V5c0-1.1-.9-2-2-2zM9 17H7v-7h2v7zm4 0h-2V7h2v10zm4 0h-2v-4h2v4z\"/>\n",
              "    </g>\n",
              "</svg>\n",
              "  </button>\n",
              "\n",
              "<style>\n",
              "  .colab-df-quickchart {\n",
              "      --bg-color: #E8F0FE;\n",
              "      --fill-color: #1967D2;\n",
              "      --hover-bg-color: #E2EBFA;\n",
              "      --hover-fill-color: #174EA6;\n",
              "      --disabled-fill-color: #AAA;\n",
              "      --disabled-bg-color: #DDD;\n",
              "  }\n",
              "\n",
              "  [theme=dark] .colab-df-quickchart {\n",
              "      --bg-color: #3B4455;\n",
              "      --fill-color: #D2E3FC;\n",
              "      --hover-bg-color: #434B5C;\n",
              "      --hover-fill-color: #FFFFFF;\n",
              "      --disabled-bg-color: #3B4455;\n",
              "      --disabled-fill-color: #666;\n",
              "  }\n",
              "\n",
              "  .colab-df-quickchart {\n",
              "    background-color: var(--bg-color);\n",
              "    border: none;\n",
              "    border-radius: 50%;\n",
              "    cursor: pointer;\n",
              "    display: none;\n",
              "    fill: var(--fill-color);\n",
              "    height: 32px;\n",
              "    padding: 0;\n",
              "    width: 32px;\n",
              "  }\n",
              "\n",
              "  .colab-df-quickchart:hover {\n",
              "    background-color: var(--hover-bg-color);\n",
              "    box-shadow: 0 1px 2px rgba(60, 64, 67, 0.3), 0 1px 3px 1px rgba(60, 64, 67, 0.15);\n",
              "    fill: var(--button-hover-fill-color);\n",
              "  }\n",
              "\n",
              "  .colab-df-quickchart-complete:disabled,\n",
              "  .colab-df-quickchart-complete:disabled:hover {\n",
              "    background-color: var(--disabled-bg-color);\n",
              "    fill: var(--disabled-fill-color);\n",
              "    box-shadow: none;\n",
              "  }\n",
              "\n",
              "  .colab-df-spinner {\n",
              "    border: 2px solid var(--fill-color);\n",
              "    border-color: transparent;\n",
              "    border-bottom-color: var(--fill-color);\n",
              "    animation:\n",
              "      spin 1s steps(1) infinite;\n",
              "  }\n",
              "\n",
              "  @keyframes spin {\n",
              "    0% {\n",
              "      border-color: transparent;\n",
              "      border-bottom-color: var(--fill-color);\n",
              "      border-left-color: var(--fill-color);\n",
              "    }\n",
              "    20% {\n",
              "      border-color: transparent;\n",
              "      border-left-color: var(--fill-color);\n",
              "      border-top-color: var(--fill-color);\n",
              "    }\n",
              "    30% {\n",
              "      border-color: transparent;\n",
              "      border-left-color: var(--fill-color);\n",
              "      border-top-color: var(--fill-color);\n",
              "      border-right-color: var(--fill-color);\n",
              "    }\n",
              "    40% {\n",
              "      border-color: transparent;\n",
              "      border-right-color: var(--fill-color);\n",
              "      border-top-color: var(--fill-color);\n",
              "    }\n",
              "    60% {\n",
              "      border-color: transparent;\n",
              "      border-right-color: var(--fill-color);\n",
              "    }\n",
              "    80% {\n",
              "      border-color: transparent;\n",
              "      border-right-color: var(--fill-color);\n",
              "      border-bottom-color: var(--fill-color);\n",
              "    }\n",
              "    90% {\n",
              "      border-color: transparent;\n",
              "      border-bottom-color: var(--fill-color);\n",
              "    }\n",
              "  }\n",
              "</style>\n",
              "\n",
              "  <script>\n",
              "    async function quickchart(key) {\n",
              "      const quickchartButtonEl =\n",
              "        document.querySelector('#' + key + ' button');\n",
              "      quickchartButtonEl.disabled = true;  // To prevent multiple clicks.\n",
              "      quickchartButtonEl.classList.add('colab-df-spinner');\n",
              "      try {\n",
              "        const charts = await google.colab.kernel.invokeFunction(\n",
              "            'suggestCharts', [key], {});\n",
              "      } catch (error) {\n",
              "        console.error('Error during call to suggestCharts:', error);\n",
              "      }\n",
              "      quickchartButtonEl.classList.remove('colab-df-spinner');\n",
              "      quickchartButtonEl.classList.add('colab-df-quickchart-complete');\n",
              "    }\n",
              "    (() => {\n",
              "      let quickchartButtonEl =\n",
              "        document.querySelector('#df-64eb0b5f-1296-40e4-9794-464500045b24 button');\n",
              "      quickchartButtonEl.style.display =\n",
              "        google.colab.kernel.accessAllowed ? 'block' : 'none';\n",
              "    })();\n",
              "  </script>\n",
              "</div>\n",
              "\n",
              "    </div>\n",
              "  </div>\n"
            ],
            "application/vnd.google.colaboratory.intrinsic+json": {
              "type": "dataframe",
              "variable_name": "df"
            }
          },
          "metadata": {},
          "execution_count": 6
        }
      ]
    },
    {
      "cell_type": "code",
      "source": [
        "df.Class.value_counts()"
      ],
      "metadata": {
        "colab": {
          "base_uri": "https://localhost:8080/"
        },
        "id": "aW6LZaiVF0Vy",
        "outputId": "123713d9-b61c-47a6-8df6-525200e0bf8e"
      },
      "execution_count": 7,
      "outputs": [
        {
          "output_type": "execute_result",
          "data": {
            "text/plain": [
              "Class\n",
              "Benign     29298\n",
              "Malware    29298\n",
              "Name: count, dtype: int64"
            ]
          },
          "metadata": {},
          "execution_count": 7
        }
      ]
    },
    {
      "cell_type": "code",
      "source": [
        "df.Category.value_counts()"
      ],
      "metadata": {
        "colab": {
          "base_uri": "https://localhost:8080/"
        },
        "id": "dUax3xzvGNeK",
        "outputId": "d53ba3a3-5af8-49e9-ccee-4548dd9d8ad1"
      },
      "execution_count": 8,
      "outputs": [
        {
          "output_type": "execute_result",
          "data": {
            "text/plain": [
              "Category\n",
              "Benign                                                                                     29298\n",
              "Spyware-Gator-1bdcd3b777965f67678748d2577b119a275aca9aed9549d45e64e692a54a7b5e-1.raw           2\n",
              "Spyware-Gator-1bfb316482877ee42e5a5078fef44c0eb51bc44c1e88ecbccd02ce4dc4694bd3-2.raw           2\n",
              "Spyware-Gator-1bfb316482877ee42e5a5078fef44c0eb51bc44c1e88ecbccd02ce4dc4694bd3-10.raw          2\n",
              "Spyware-Gator-1bfb316482877ee42e5a5078fef44c0eb51bc44c1e88ecbccd02ce4dc4694bd3-1.raw           2\n",
              "                                                                                           ...  \n",
              "Spyware-Gator-0b25829d15dc951a44e7652fc6de9d936d7d51f29586d56dbf8fccea419252ac-6.raw           1\n",
              "Spyware-Gator-0b25829d15dc951a44e7652fc6de9d936d7d51f29586d56dbf8fccea419252ac-5.raw           1\n",
              "Spyware-Gator-0b25829d15dc951a44e7652fc6de9d936d7d51f29586d56dbf8fccea419252ac-4.raw           1\n",
              "Spyware-Gator-0b25829d15dc951a44e7652fc6de9d936d7d51f29586d56dbf8fccea419252ac-3.raw           1\n",
              "Ransomware-Shade-955d9af38346c1755527bd196668edfad6d3f001d217b04d2380eb99e0760585-8.raw        1\n",
              "Name: count, Length: 28346, dtype: int64"
            ]
          },
          "metadata": {},
          "execution_count": 8
        }
      ]
    },
    {
      "cell_type": "markdown",
      "source": [
        "## Data Cleaning"
      ],
      "metadata": {
        "id": "4LDwAJ4iaOqX"
      }
    },
    {
      "cell_type": "code",
      "source": [
        "def data_profiling(df):\n",
        "    data_profile = []\n",
        "    columns = df.columns\n",
        "    for col in columns:\n",
        "        dtypes = df[col].dtypes\n",
        "        nunique = df[col].nunique()\n",
        "        null = df[col].isnull().sum()\n",
        "        duplicates = df[col].duplicated().sum()\n",
        "        data_profile.append([col,dtypes,nunique,null,duplicates])\n",
        "    data_profile_finding = pd.DataFrame(data_profile)\n",
        "    data_profile_finding.columns = ['column','dtypes','nunique','null','duplicates']\n",
        "    return data_profile_finding"
      ],
      "metadata": {
        "id": "Ap0_K4msF7-W"
      },
      "execution_count": 9,
      "outputs": []
    },
    {
      "cell_type": "code",
      "source": [
        "data_profiling(df)"
      ],
      "metadata": {
        "colab": {
          "base_uri": "https://localhost:8080/",
          "height": 1000
        },
        "id": "kaBId_GPGDUO",
        "outputId": "80871341-b86f-4d41-d22f-31f6a24ae695"
      },
      "execution_count": 10,
      "outputs": [
        {
          "output_type": "execute_result",
          "data": {
            "text/plain": [
              "                                    column   dtypes  nunique  null  duplicates\n",
              "0                                 Category   object    28346     0       30250\n",
              "1                             pslist.nproc    int64      114     0       58482\n",
              "2                             pslist.nppid    int64       49     0       58547\n",
              "3                       pslist.avg_threads  float64    27885     0       30711\n",
              "4                       pslist.nprocs64bit    int64        1     0       58595\n",
              "5                      pslist.avg_handlers  float64    36463     0       22133\n",
              "6                            dlllist.ndlls    int64     1860     0       56736\n",
              "7                dlllist.avg_dlls_per_proc  float64    16319     0       42277\n",
              "8                         handles.nhandles    int64     7674     0       50922\n",
              "9             handles.avg_handles_per_proc  float64    36144     0       22452\n",
              "10                           handles.nport    int64        1     0       58595\n",
              "11                           handles.nfile    int64     1149     0       57447\n",
              "12                          handles.nevent    int64     3469     0       55127\n",
              "13                        handles.ndesktop    int64       64     0       58532\n",
              "14                            handles.nkey    int64     1100     0       57496\n",
              "15                         handles.nthread    int64     1170     0       57426\n",
              "16                      handles.ndirectory    int64      108     0       58488\n",
              "17                      handles.nsemaphore    int64      638     0       57958\n",
              "18                          handles.ntimer    int64      129     0       58467\n",
              "19                        handles.nsection    int64      629     0       57967\n",
              "20                         handles.nmutant    int64      408     0       58188\n",
              "21                  ldrmodules.not_in_load    int64      151     0       58445\n",
              "22                  ldrmodules.not_in_init    int64      185     0       58411\n",
              "23                   ldrmodules.not_in_mem    int64      151     0       58445\n",
              "24              ldrmodules.not_in_load_avg  float64    18673     0       39923\n",
              "25              ldrmodules.not_in_init_avg  float64    18838     0       39758\n",
              "26               ldrmodules.not_in_mem_avg  float64    18673     0       39923\n",
              "27                     malfind.ninjections    int64      120     0       58476\n",
              "28                    malfind.commitCharge    int64      559     0       58037\n",
              "29                      malfind.protection    int64      215     0       58381\n",
              "30                malfind.uniqueInjections  float64     5526     0       53070\n",
              "31                   psxview.not_in_pslist    int64       41     0       58555\n",
              "32            psxview.not_in_eprocess_pool    int64        2     0       58594\n",
              "33             psxview.not_in_ethread_pool    int64       84     0       58512\n",
              "34              psxview.not_in_pspcid_list    int64       43     0       58553\n",
              "35            psxview.not_in_csrss_handles    int64       84     0       58512\n",
              "36                  psxview.not_in_session    int64       41     0       58555\n",
              "37                 psxview.not_in_deskthrd    int64       87     0       58509\n",
              "38         psxview.not_in_pslist_false_avg  float64     9690     0       48906\n",
              "39  psxview.not_in_eprocess_pool_false_avg  float64      196     0       58400\n",
              "40   psxview.not_in_ethread_pool_false_avg  float64    10421     0       48175\n",
              "41    psxview.not_in_pspcid_list_false_avg  float64     9695     0       48901\n",
              "42  psxview.not_in_csrss_handles_false_avg  float64    11814     0       46782\n",
              "43        psxview.not_in_session_false_avg  float64    11930     0       46666\n",
              "44       psxview.not_in_deskthrd_false_avg  float64    12049     0       46547\n",
              "45                        modules.nmodules    int64        3     0       58593\n",
              "46                       svcscan.nservices    int64       31     0       58565\n",
              "47                  svcscan.kernel_drivers    int64       20     0       58576\n",
              "48                      svcscan.fs_drivers    int64       10     0       58586\n",
              "49                svcscan.process_services    int64       14     0       58582\n",
              "50         svcscan.shared_process_services    int64       23     0       58573\n",
              "51    svcscan.interactive_process_services    int64        1     0       58595\n",
              "52                         svcscan.nactive    int64       35     0       58561\n",
              "53                    callbacks.ncallbacks    int64       13     0       58583\n",
              "54                    callbacks.nanonymous    int64        2     0       58594\n",
              "55                      callbacks.ngeneric    int64        2     0       58594\n",
              "56                                   Class   object        2     0       58594"
            ],
            "text/html": [
              "\n",
              "  <div id=\"df-0d714c2a-a4b3-4092-a1be-8223252ea486\" class=\"colab-df-container\">\n",
              "    <div>\n",
              "<style scoped>\n",
              "    .dataframe tbody tr th:only-of-type {\n",
              "        vertical-align: middle;\n",
              "    }\n",
              "\n",
              "    .dataframe tbody tr th {\n",
              "        vertical-align: top;\n",
              "    }\n",
              "\n",
              "    .dataframe thead th {\n",
              "        text-align: right;\n",
              "    }\n",
              "</style>\n",
              "<table border=\"1\" class=\"dataframe\">\n",
              "  <thead>\n",
              "    <tr style=\"text-align: right;\">\n",
              "      <th></th>\n",
              "      <th>column</th>\n",
              "      <th>dtypes</th>\n",
              "      <th>nunique</th>\n",
              "      <th>null</th>\n",
              "      <th>duplicates</th>\n",
              "    </tr>\n",
              "  </thead>\n",
              "  <tbody>\n",
              "    <tr>\n",
              "      <th>0</th>\n",
              "      <td>Category</td>\n",
              "      <td>object</td>\n",
              "      <td>28346</td>\n",
              "      <td>0</td>\n",
              "      <td>30250</td>\n",
              "    </tr>\n",
              "    <tr>\n",
              "      <th>1</th>\n",
              "      <td>pslist.nproc</td>\n",
              "      <td>int64</td>\n",
              "      <td>114</td>\n",
              "      <td>0</td>\n",
              "      <td>58482</td>\n",
              "    </tr>\n",
              "    <tr>\n",
              "      <th>2</th>\n",
              "      <td>pslist.nppid</td>\n",
              "      <td>int64</td>\n",
              "      <td>49</td>\n",
              "      <td>0</td>\n",
              "      <td>58547</td>\n",
              "    </tr>\n",
              "    <tr>\n",
              "      <th>3</th>\n",
              "      <td>pslist.avg_threads</td>\n",
              "      <td>float64</td>\n",
              "      <td>27885</td>\n",
              "      <td>0</td>\n",
              "      <td>30711</td>\n",
              "    </tr>\n",
              "    <tr>\n",
              "      <th>4</th>\n",
              "      <td>pslist.nprocs64bit</td>\n",
              "      <td>int64</td>\n",
              "      <td>1</td>\n",
              "      <td>0</td>\n",
              "      <td>58595</td>\n",
              "    </tr>\n",
              "    <tr>\n",
              "      <th>5</th>\n",
              "      <td>pslist.avg_handlers</td>\n",
              "      <td>float64</td>\n",
              "      <td>36463</td>\n",
              "      <td>0</td>\n",
              "      <td>22133</td>\n",
              "    </tr>\n",
              "    <tr>\n",
              "      <th>6</th>\n",
              "      <td>dlllist.ndlls</td>\n",
              "      <td>int64</td>\n",
              "      <td>1860</td>\n",
              "      <td>0</td>\n",
              "      <td>56736</td>\n",
              "    </tr>\n",
              "    <tr>\n",
              "      <th>7</th>\n",
              "      <td>dlllist.avg_dlls_per_proc</td>\n",
              "      <td>float64</td>\n",
              "      <td>16319</td>\n",
              "      <td>0</td>\n",
              "      <td>42277</td>\n",
              "    </tr>\n",
              "    <tr>\n",
              "      <th>8</th>\n",
              "      <td>handles.nhandles</td>\n",
              "      <td>int64</td>\n",
              "      <td>7674</td>\n",
              "      <td>0</td>\n",
              "      <td>50922</td>\n",
              "    </tr>\n",
              "    <tr>\n",
              "      <th>9</th>\n",
              "      <td>handles.avg_handles_per_proc</td>\n",
              "      <td>float64</td>\n",
              "      <td>36144</td>\n",
              "      <td>0</td>\n",
              "      <td>22452</td>\n",
              "    </tr>\n",
              "    <tr>\n",
              "      <th>10</th>\n",
              "      <td>handles.nport</td>\n",
              "      <td>int64</td>\n",
              "      <td>1</td>\n",
              "      <td>0</td>\n",
              "      <td>58595</td>\n",
              "    </tr>\n",
              "    <tr>\n",
              "      <th>11</th>\n",
              "      <td>handles.nfile</td>\n",
              "      <td>int64</td>\n",
              "      <td>1149</td>\n",
              "      <td>0</td>\n",
              "      <td>57447</td>\n",
              "    </tr>\n",
              "    <tr>\n",
              "      <th>12</th>\n",
              "      <td>handles.nevent</td>\n",
              "      <td>int64</td>\n",
              "      <td>3469</td>\n",
              "      <td>0</td>\n",
              "      <td>55127</td>\n",
              "    </tr>\n",
              "    <tr>\n",
              "      <th>13</th>\n",
              "      <td>handles.ndesktop</td>\n",
              "      <td>int64</td>\n",
              "      <td>64</td>\n",
              "      <td>0</td>\n",
              "      <td>58532</td>\n",
              "    </tr>\n",
              "    <tr>\n",
              "      <th>14</th>\n",
              "      <td>handles.nkey</td>\n",
              "      <td>int64</td>\n",
              "      <td>1100</td>\n",
              "      <td>0</td>\n",
              "      <td>57496</td>\n",
              "    </tr>\n",
              "    <tr>\n",
              "      <th>15</th>\n",
              "      <td>handles.nthread</td>\n",
              "      <td>int64</td>\n",
              "      <td>1170</td>\n",
              "      <td>0</td>\n",
              "      <td>57426</td>\n",
              "    </tr>\n",
              "    <tr>\n",
              "      <th>16</th>\n",
              "      <td>handles.ndirectory</td>\n",
              "      <td>int64</td>\n",
              "      <td>108</td>\n",
              "      <td>0</td>\n",
              "      <td>58488</td>\n",
              "    </tr>\n",
              "    <tr>\n",
              "      <th>17</th>\n",
              "      <td>handles.nsemaphore</td>\n",
              "      <td>int64</td>\n",
              "      <td>638</td>\n",
              "      <td>0</td>\n",
              "      <td>57958</td>\n",
              "    </tr>\n",
              "    <tr>\n",
              "      <th>18</th>\n",
              "      <td>handles.ntimer</td>\n",
              "      <td>int64</td>\n",
              "      <td>129</td>\n",
              "      <td>0</td>\n",
              "      <td>58467</td>\n",
              "    </tr>\n",
              "    <tr>\n",
              "      <th>19</th>\n",
              "      <td>handles.nsection</td>\n",
              "      <td>int64</td>\n",
              "      <td>629</td>\n",
              "      <td>0</td>\n",
              "      <td>57967</td>\n",
              "    </tr>\n",
              "    <tr>\n",
              "      <th>20</th>\n",
              "      <td>handles.nmutant</td>\n",
              "      <td>int64</td>\n",
              "      <td>408</td>\n",
              "      <td>0</td>\n",
              "      <td>58188</td>\n",
              "    </tr>\n",
              "    <tr>\n",
              "      <th>21</th>\n",
              "      <td>ldrmodules.not_in_load</td>\n",
              "      <td>int64</td>\n",
              "      <td>151</td>\n",
              "      <td>0</td>\n",
              "      <td>58445</td>\n",
              "    </tr>\n",
              "    <tr>\n",
              "      <th>22</th>\n",
              "      <td>ldrmodules.not_in_init</td>\n",
              "      <td>int64</td>\n",
              "      <td>185</td>\n",
              "      <td>0</td>\n",
              "      <td>58411</td>\n",
              "    </tr>\n",
              "    <tr>\n",
              "      <th>23</th>\n",
              "      <td>ldrmodules.not_in_mem</td>\n",
              "      <td>int64</td>\n",
              "      <td>151</td>\n",
              "      <td>0</td>\n",
              "      <td>58445</td>\n",
              "    </tr>\n",
              "    <tr>\n",
              "      <th>24</th>\n",
              "      <td>ldrmodules.not_in_load_avg</td>\n",
              "      <td>float64</td>\n",
              "      <td>18673</td>\n",
              "      <td>0</td>\n",
              "      <td>39923</td>\n",
              "    </tr>\n",
              "    <tr>\n",
              "      <th>25</th>\n",
              "      <td>ldrmodules.not_in_init_avg</td>\n",
              "      <td>float64</td>\n",
              "      <td>18838</td>\n",
              "      <td>0</td>\n",
              "      <td>39758</td>\n",
              "    </tr>\n",
              "    <tr>\n",
              "      <th>26</th>\n",
              "      <td>ldrmodules.not_in_mem_avg</td>\n",
              "      <td>float64</td>\n",
              "      <td>18673</td>\n",
              "      <td>0</td>\n",
              "      <td>39923</td>\n",
              "    </tr>\n",
              "    <tr>\n",
              "      <th>27</th>\n",
              "      <td>malfind.ninjections</td>\n",
              "      <td>int64</td>\n",
              "      <td>120</td>\n",
              "      <td>0</td>\n",
              "      <td>58476</td>\n",
              "    </tr>\n",
              "    <tr>\n",
              "      <th>28</th>\n",
              "      <td>malfind.commitCharge</td>\n",
              "      <td>int64</td>\n",
              "      <td>559</td>\n",
              "      <td>0</td>\n",
              "      <td>58037</td>\n",
              "    </tr>\n",
              "    <tr>\n",
              "      <th>29</th>\n",
              "      <td>malfind.protection</td>\n",
              "      <td>int64</td>\n",
              "      <td>215</td>\n",
              "      <td>0</td>\n",
              "      <td>58381</td>\n",
              "    </tr>\n",
              "    <tr>\n",
              "      <th>30</th>\n",
              "      <td>malfind.uniqueInjections</td>\n",
              "      <td>float64</td>\n",
              "      <td>5526</td>\n",
              "      <td>0</td>\n",
              "      <td>53070</td>\n",
              "    </tr>\n",
              "    <tr>\n",
              "      <th>31</th>\n",
              "      <td>psxview.not_in_pslist</td>\n",
              "      <td>int64</td>\n",
              "      <td>41</td>\n",
              "      <td>0</td>\n",
              "      <td>58555</td>\n",
              "    </tr>\n",
              "    <tr>\n",
              "      <th>32</th>\n",
              "      <td>psxview.not_in_eprocess_pool</td>\n",
              "      <td>int64</td>\n",
              "      <td>2</td>\n",
              "      <td>0</td>\n",
              "      <td>58594</td>\n",
              "    </tr>\n",
              "    <tr>\n",
              "      <th>33</th>\n",
              "      <td>psxview.not_in_ethread_pool</td>\n",
              "      <td>int64</td>\n",
              "      <td>84</td>\n",
              "      <td>0</td>\n",
              "      <td>58512</td>\n",
              "    </tr>\n",
              "    <tr>\n",
              "      <th>34</th>\n",
              "      <td>psxview.not_in_pspcid_list</td>\n",
              "      <td>int64</td>\n",
              "      <td>43</td>\n",
              "      <td>0</td>\n",
              "      <td>58553</td>\n",
              "    </tr>\n",
              "    <tr>\n",
              "      <th>35</th>\n",
              "      <td>psxview.not_in_csrss_handles</td>\n",
              "      <td>int64</td>\n",
              "      <td>84</td>\n",
              "      <td>0</td>\n",
              "      <td>58512</td>\n",
              "    </tr>\n",
              "    <tr>\n",
              "      <th>36</th>\n",
              "      <td>psxview.not_in_session</td>\n",
              "      <td>int64</td>\n",
              "      <td>41</td>\n",
              "      <td>0</td>\n",
              "      <td>58555</td>\n",
              "    </tr>\n",
              "    <tr>\n",
              "      <th>37</th>\n",
              "      <td>psxview.not_in_deskthrd</td>\n",
              "      <td>int64</td>\n",
              "      <td>87</td>\n",
              "      <td>0</td>\n",
              "      <td>58509</td>\n",
              "    </tr>\n",
              "    <tr>\n",
              "      <th>38</th>\n",
              "      <td>psxview.not_in_pslist_false_avg</td>\n",
              "      <td>float64</td>\n",
              "      <td>9690</td>\n",
              "      <td>0</td>\n",
              "      <td>48906</td>\n",
              "    </tr>\n",
              "    <tr>\n",
              "      <th>39</th>\n",
              "      <td>psxview.not_in_eprocess_pool_false_avg</td>\n",
              "      <td>float64</td>\n",
              "      <td>196</td>\n",
              "      <td>0</td>\n",
              "      <td>58400</td>\n",
              "    </tr>\n",
              "    <tr>\n",
              "      <th>40</th>\n",
              "      <td>psxview.not_in_ethread_pool_false_avg</td>\n",
              "      <td>float64</td>\n",
              "      <td>10421</td>\n",
              "      <td>0</td>\n",
              "      <td>48175</td>\n",
              "    </tr>\n",
              "    <tr>\n",
              "      <th>41</th>\n",
              "      <td>psxview.not_in_pspcid_list_false_avg</td>\n",
              "      <td>float64</td>\n",
              "      <td>9695</td>\n",
              "      <td>0</td>\n",
              "      <td>48901</td>\n",
              "    </tr>\n",
              "    <tr>\n",
              "      <th>42</th>\n",
              "      <td>psxview.not_in_csrss_handles_false_avg</td>\n",
              "      <td>float64</td>\n",
              "      <td>11814</td>\n",
              "      <td>0</td>\n",
              "      <td>46782</td>\n",
              "    </tr>\n",
              "    <tr>\n",
              "      <th>43</th>\n",
              "      <td>psxview.not_in_session_false_avg</td>\n",
              "      <td>float64</td>\n",
              "      <td>11930</td>\n",
              "      <td>0</td>\n",
              "      <td>46666</td>\n",
              "    </tr>\n",
              "    <tr>\n",
              "      <th>44</th>\n",
              "      <td>psxview.not_in_deskthrd_false_avg</td>\n",
              "      <td>float64</td>\n",
              "      <td>12049</td>\n",
              "      <td>0</td>\n",
              "      <td>46547</td>\n",
              "    </tr>\n",
              "    <tr>\n",
              "      <th>45</th>\n",
              "      <td>modules.nmodules</td>\n",
              "      <td>int64</td>\n",
              "      <td>3</td>\n",
              "      <td>0</td>\n",
              "      <td>58593</td>\n",
              "    </tr>\n",
              "    <tr>\n",
              "      <th>46</th>\n",
              "      <td>svcscan.nservices</td>\n",
              "      <td>int64</td>\n",
              "      <td>31</td>\n",
              "      <td>0</td>\n",
              "      <td>58565</td>\n",
              "    </tr>\n",
              "    <tr>\n",
              "      <th>47</th>\n",
              "      <td>svcscan.kernel_drivers</td>\n",
              "      <td>int64</td>\n",
              "      <td>20</td>\n",
              "      <td>0</td>\n",
              "      <td>58576</td>\n",
              "    </tr>\n",
              "    <tr>\n",
              "      <th>48</th>\n",
              "      <td>svcscan.fs_drivers</td>\n",
              "      <td>int64</td>\n",
              "      <td>10</td>\n",
              "      <td>0</td>\n",
              "      <td>58586</td>\n",
              "    </tr>\n",
              "    <tr>\n",
              "      <th>49</th>\n",
              "      <td>svcscan.process_services</td>\n",
              "      <td>int64</td>\n",
              "      <td>14</td>\n",
              "      <td>0</td>\n",
              "      <td>58582</td>\n",
              "    </tr>\n",
              "    <tr>\n",
              "      <th>50</th>\n",
              "      <td>svcscan.shared_process_services</td>\n",
              "      <td>int64</td>\n",
              "      <td>23</td>\n",
              "      <td>0</td>\n",
              "      <td>58573</td>\n",
              "    </tr>\n",
              "    <tr>\n",
              "      <th>51</th>\n",
              "      <td>svcscan.interactive_process_services</td>\n",
              "      <td>int64</td>\n",
              "      <td>1</td>\n",
              "      <td>0</td>\n",
              "      <td>58595</td>\n",
              "    </tr>\n",
              "    <tr>\n",
              "      <th>52</th>\n",
              "      <td>svcscan.nactive</td>\n",
              "      <td>int64</td>\n",
              "      <td>35</td>\n",
              "      <td>0</td>\n",
              "      <td>58561</td>\n",
              "    </tr>\n",
              "    <tr>\n",
              "      <th>53</th>\n",
              "      <td>callbacks.ncallbacks</td>\n",
              "      <td>int64</td>\n",
              "      <td>13</td>\n",
              "      <td>0</td>\n",
              "      <td>58583</td>\n",
              "    </tr>\n",
              "    <tr>\n",
              "      <th>54</th>\n",
              "      <td>callbacks.nanonymous</td>\n",
              "      <td>int64</td>\n",
              "      <td>2</td>\n",
              "      <td>0</td>\n",
              "      <td>58594</td>\n",
              "    </tr>\n",
              "    <tr>\n",
              "      <th>55</th>\n",
              "      <td>callbacks.ngeneric</td>\n",
              "      <td>int64</td>\n",
              "      <td>2</td>\n",
              "      <td>0</td>\n",
              "      <td>58594</td>\n",
              "    </tr>\n",
              "    <tr>\n",
              "      <th>56</th>\n",
              "      <td>Class</td>\n",
              "      <td>object</td>\n",
              "      <td>2</td>\n",
              "      <td>0</td>\n",
              "      <td>58594</td>\n",
              "    </tr>\n",
              "  </tbody>\n",
              "</table>\n",
              "</div>\n",
              "    <div class=\"colab-df-buttons\">\n",
              "\n",
              "  <div class=\"colab-df-container\">\n",
              "    <button class=\"colab-df-convert\" onclick=\"convertToInteractive('df-0d714c2a-a4b3-4092-a1be-8223252ea486')\"\n",
              "            title=\"Convert this dataframe to an interactive table.\"\n",
              "            style=\"display:none;\">\n",
              "\n",
              "  <svg xmlns=\"http://www.w3.org/2000/svg\" height=\"24px\" viewBox=\"0 -960 960 960\">\n",
              "    <path d=\"M120-120v-720h720v720H120Zm60-500h600v-160H180v160Zm220 220h160v-160H400v160Zm0 220h160v-160H400v160ZM180-400h160v-160H180v160Zm440 0h160v-160H620v160ZM180-180h160v-160H180v160Zm440 0h160v-160H620v160Z\"/>\n",
              "  </svg>\n",
              "    </button>\n",
              "\n",
              "  <style>\n",
              "    .colab-df-container {\n",
              "      display:flex;\n",
              "      gap: 12px;\n",
              "    }\n",
              "\n",
              "    .colab-df-convert {\n",
              "      background-color: #E8F0FE;\n",
              "      border: none;\n",
              "      border-radius: 50%;\n",
              "      cursor: pointer;\n",
              "      display: none;\n",
              "      fill: #1967D2;\n",
              "      height: 32px;\n",
              "      padding: 0 0 0 0;\n",
              "      width: 32px;\n",
              "    }\n",
              "\n",
              "    .colab-df-convert:hover {\n",
              "      background-color: #E2EBFA;\n",
              "      box-shadow: 0px 1px 2px rgba(60, 64, 67, 0.3), 0px 1px 3px 1px rgba(60, 64, 67, 0.15);\n",
              "      fill: #174EA6;\n",
              "    }\n",
              "\n",
              "    .colab-df-buttons div {\n",
              "      margin-bottom: 4px;\n",
              "    }\n",
              "\n",
              "    [theme=dark] .colab-df-convert {\n",
              "      background-color: #3B4455;\n",
              "      fill: #D2E3FC;\n",
              "    }\n",
              "\n",
              "    [theme=dark] .colab-df-convert:hover {\n",
              "      background-color: #434B5C;\n",
              "      box-shadow: 0px 1px 3px 1px rgba(0, 0, 0, 0.15);\n",
              "      filter: drop-shadow(0px 1px 2px rgba(0, 0, 0, 0.3));\n",
              "      fill: #FFFFFF;\n",
              "    }\n",
              "  </style>\n",
              "\n",
              "    <script>\n",
              "      const buttonEl =\n",
              "        document.querySelector('#df-0d714c2a-a4b3-4092-a1be-8223252ea486 button.colab-df-convert');\n",
              "      buttonEl.style.display =\n",
              "        google.colab.kernel.accessAllowed ? 'block' : 'none';\n",
              "\n",
              "      async function convertToInteractive(key) {\n",
              "        const element = document.querySelector('#df-0d714c2a-a4b3-4092-a1be-8223252ea486');\n",
              "        const dataTable =\n",
              "          await google.colab.kernel.invokeFunction('convertToInteractive',\n",
              "                                                    [key], {});\n",
              "        if (!dataTable) return;\n",
              "\n",
              "        const docLinkHtml = 'Like what you see? Visit the ' +\n",
              "          '<a target=\"_blank\" href=https://colab.research.google.com/notebooks/data_table.ipynb>data table notebook</a>'\n",
              "          + ' to learn more about interactive tables.';\n",
              "        element.innerHTML = '';\n",
              "        dataTable['output_type'] = 'display_data';\n",
              "        await google.colab.output.renderOutput(dataTable, element);\n",
              "        const docLink = document.createElement('div');\n",
              "        docLink.innerHTML = docLinkHtml;\n",
              "        element.appendChild(docLink);\n",
              "      }\n",
              "    </script>\n",
              "  </div>\n",
              "\n",
              "\n",
              "<div id=\"df-7c342e94-4098-4c34-9c12-e30af8cac94b\">\n",
              "  <button class=\"colab-df-quickchart\" onclick=\"quickchart('df-7c342e94-4098-4c34-9c12-e30af8cac94b')\"\n",
              "            title=\"Suggest charts\"\n",
              "            style=\"display:none;\">\n",
              "\n",
              "<svg xmlns=\"http://www.w3.org/2000/svg\" height=\"24px\"viewBox=\"0 0 24 24\"\n",
              "     width=\"24px\">\n",
              "    <g>\n",
              "        <path d=\"M19 3H5c-1.1 0-2 .9-2 2v14c0 1.1.9 2 2 2h14c1.1 0 2-.9 2-2V5c0-1.1-.9-2-2-2zM9 17H7v-7h2v7zm4 0h-2V7h2v10zm4 0h-2v-4h2v4z\"/>\n",
              "    </g>\n",
              "</svg>\n",
              "  </button>\n",
              "\n",
              "<style>\n",
              "  .colab-df-quickchart {\n",
              "      --bg-color: #E8F0FE;\n",
              "      --fill-color: #1967D2;\n",
              "      --hover-bg-color: #E2EBFA;\n",
              "      --hover-fill-color: #174EA6;\n",
              "      --disabled-fill-color: #AAA;\n",
              "      --disabled-bg-color: #DDD;\n",
              "  }\n",
              "\n",
              "  [theme=dark] .colab-df-quickchart {\n",
              "      --bg-color: #3B4455;\n",
              "      --fill-color: #D2E3FC;\n",
              "      --hover-bg-color: #434B5C;\n",
              "      --hover-fill-color: #FFFFFF;\n",
              "      --disabled-bg-color: #3B4455;\n",
              "      --disabled-fill-color: #666;\n",
              "  }\n",
              "\n",
              "  .colab-df-quickchart {\n",
              "    background-color: var(--bg-color);\n",
              "    border: none;\n",
              "    border-radius: 50%;\n",
              "    cursor: pointer;\n",
              "    display: none;\n",
              "    fill: var(--fill-color);\n",
              "    height: 32px;\n",
              "    padding: 0;\n",
              "    width: 32px;\n",
              "  }\n",
              "\n",
              "  .colab-df-quickchart:hover {\n",
              "    background-color: var(--hover-bg-color);\n",
              "    box-shadow: 0 1px 2px rgba(60, 64, 67, 0.3), 0 1px 3px 1px rgba(60, 64, 67, 0.15);\n",
              "    fill: var(--button-hover-fill-color);\n",
              "  }\n",
              "\n",
              "  .colab-df-quickchart-complete:disabled,\n",
              "  .colab-df-quickchart-complete:disabled:hover {\n",
              "    background-color: var(--disabled-bg-color);\n",
              "    fill: var(--disabled-fill-color);\n",
              "    box-shadow: none;\n",
              "  }\n",
              "\n",
              "  .colab-df-spinner {\n",
              "    border: 2px solid var(--fill-color);\n",
              "    border-color: transparent;\n",
              "    border-bottom-color: var(--fill-color);\n",
              "    animation:\n",
              "      spin 1s steps(1) infinite;\n",
              "  }\n",
              "\n",
              "  @keyframes spin {\n",
              "    0% {\n",
              "      border-color: transparent;\n",
              "      border-bottom-color: var(--fill-color);\n",
              "      border-left-color: var(--fill-color);\n",
              "    }\n",
              "    20% {\n",
              "      border-color: transparent;\n",
              "      border-left-color: var(--fill-color);\n",
              "      border-top-color: var(--fill-color);\n",
              "    }\n",
              "    30% {\n",
              "      border-color: transparent;\n",
              "      border-left-color: var(--fill-color);\n",
              "      border-top-color: var(--fill-color);\n",
              "      border-right-color: var(--fill-color);\n",
              "    }\n",
              "    40% {\n",
              "      border-color: transparent;\n",
              "      border-right-color: var(--fill-color);\n",
              "      border-top-color: var(--fill-color);\n",
              "    }\n",
              "    60% {\n",
              "      border-color: transparent;\n",
              "      border-right-color: var(--fill-color);\n",
              "    }\n",
              "    80% {\n",
              "      border-color: transparent;\n",
              "      border-right-color: var(--fill-color);\n",
              "      border-bottom-color: var(--fill-color);\n",
              "    }\n",
              "    90% {\n",
              "      border-color: transparent;\n",
              "      border-bottom-color: var(--fill-color);\n",
              "    }\n",
              "  }\n",
              "</style>\n",
              "\n",
              "  <script>\n",
              "    async function quickchart(key) {\n",
              "      const quickchartButtonEl =\n",
              "        document.querySelector('#' + key + ' button');\n",
              "      quickchartButtonEl.disabled = true;  // To prevent multiple clicks.\n",
              "      quickchartButtonEl.classList.add('colab-df-spinner');\n",
              "      try {\n",
              "        const charts = await google.colab.kernel.invokeFunction(\n",
              "            'suggestCharts', [key], {});\n",
              "      } catch (error) {\n",
              "        console.error('Error during call to suggestCharts:', error);\n",
              "      }\n",
              "      quickchartButtonEl.classList.remove('colab-df-spinner');\n",
              "      quickchartButtonEl.classList.add('colab-df-quickchart-complete');\n",
              "    }\n",
              "    (() => {\n",
              "      let quickchartButtonEl =\n",
              "        document.querySelector('#df-7c342e94-4098-4c34-9c12-e30af8cac94b button');\n",
              "      quickchartButtonEl.style.display =\n",
              "        google.colab.kernel.accessAllowed ? 'block' : 'none';\n",
              "    })();\n",
              "  </script>\n",
              "</div>\n",
              "\n",
              "    </div>\n",
              "  </div>\n"
            ],
            "application/vnd.google.colaboratory.intrinsic+json": {
              "type": "dataframe",
              "summary": "{\n  \"name\": \"data_profiling(df)\",\n  \"rows\": 57,\n  \"fields\": [\n    {\n      \"column\": \"column\",\n      \"properties\": {\n        \"dtype\": \"string\",\n        \"num_unique_values\": 57,\n        \"samples\": [\n          \"Category\",\n          \"pslist.avg_handlers\",\n          \"malfind.uniqueInjections\"\n        ],\n        \"semantic_type\": \"\",\n        \"description\": \"\"\n      }\n    },\n    {\n      \"column\": \"dtypes\",\n      \"properties\": {\n        \"dtype\": \"category\",\n        \"num_unique_values\": 3,\n        \"samples\": [\n          \"object\",\n          \"int64\",\n          \"float64\"\n        ],\n        \"semantic_type\": \"\",\n        \"description\": \"\"\n      }\n    },\n    {\n      \"column\": \"nunique\",\n      \"properties\": {\n        \"dtype\": \"number\",\n        \"std\": 9317,\n        \"min\": 1,\n        \"max\": 36463,\n        \"num_unique_values\": 48,\n        \"samples\": [\n          5526,\n          3,\n          215\n        ],\n        \"semantic_type\": \"\",\n        \"description\": \"\"\n      }\n    },\n    {\n      \"column\": \"null\",\n      \"properties\": {\n        \"dtype\": \"number\",\n        \"std\": 0,\n        \"min\": 0,\n        \"max\": 0,\n        \"num_unique_values\": 1,\n        \"samples\": [\n          0\n        ],\n        \"semantic_type\": \"\",\n        \"description\": \"\"\n      }\n    },\n    {\n      \"column\": \"duplicates\",\n      \"properties\": {\n        \"dtype\": \"number\",\n        \"std\": 9317,\n        \"min\": 22133,\n        \"max\": 58595,\n        \"num_unique_values\": 48,\n        \"samples\": [\n          53070\n        ],\n        \"semantic_type\": \"\",\n        \"description\": \"\"\n      }\n    }\n  ]\n}"
            }
          },
          "metadata": {},
          "execution_count": 10
        }
      ]
    },
    {
      "cell_type": "code",
      "source": [
        "df.drop(['Category'], axis=1, inplace=True)"
      ],
      "metadata": {
        "id": "vqMTZ5-oGFoO"
      },
      "execution_count": 11,
      "outputs": []
    },
    {
      "cell_type": "markdown",
      "source": [
        "# Data Preprocessing"
      ],
      "metadata": {
        "id": "7ptM_61Zahnd"
      }
    },
    {
      "cell_type": "markdown",
      "source": [
        "### Creating X and Y"
      ],
      "metadata": {
        "id": "4KEbUTPfGhuy"
      }
    },
    {
      "cell_type": "code",
      "source": [
        "x = df.iloc[:,:-1].values\n",
        "y= df.iloc[:,-1].values"
      ],
      "metadata": {
        "id": "zDEpF5zHGhUH"
      },
      "execution_count": 12,
      "outputs": []
    },
    {
      "cell_type": "code",
      "source": [
        "from sklearn.preprocessing import LabelEncoder"
      ],
      "metadata": {
        "id": "eRsyIYU4GfPL"
      },
      "execution_count": 13,
      "outputs": []
    },
    {
      "cell_type": "markdown",
      "source": [
        "### Label Encoding"
      ],
      "metadata": {
        "id": "4zLXw_ojaXKz"
      }
    },
    {
      "cell_type": "code",
      "source": [
        "lb = LabelEncoder()\n",
        "y = lb.fit_transform(y)\n",
        "y"
      ],
      "metadata": {
        "colab": {
          "base_uri": "https://localhost:8080/"
        },
        "id": "tWhujmHFQdOl",
        "outputId": "b5d80f9e-d990-4c3b-9198-d6d474356147"
      },
      "execution_count": 14,
      "outputs": [
        {
          "output_type": "execute_result",
          "data": {
            "text/plain": [
              "array([0, 0, 0, ..., 1, 1, 1])"
            ]
          },
          "metadata": {},
          "execution_count": 14
        }
      ]
    },
    {
      "cell_type": "markdown",
      "source": [
        "### Train Test Split"
      ],
      "metadata": {
        "id": "pDJiPh7ZQf-y"
      }
    },
    {
      "cell_type": "code",
      "source": [
        "from sklearn.model_selection import train_test_split\n",
        "from sklearn.preprocessing import StandardScaler"
      ],
      "metadata": {
        "id": "Pzg1d3KNQkZM"
      },
      "execution_count": 15,
      "outputs": []
    },
    {
      "cell_type": "code",
      "source": [
        "X_train, X_test, y_train, y_test = train_test_split(\n",
        " x, y, test_size=0.2, random_state=22)"
      ],
      "metadata": {
        "id": "PuztbjgfQmf1"
      },
      "execution_count": 16,
      "outputs": []
    },
    {
      "cell_type": "code",
      "source": [
        "sc = StandardScaler()\n",
        "\n",
        "X_train=sc.fit_transform(X_train)\n",
        "X_test=sc.transform(X_test)"
      ],
      "metadata": {
        "id": "l14IblJFGqKY"
      },
      "execution_count": 17,
      "outputs": []
    },
    {
      "cell_type": "markdown",
      "source": [
        "# Feature Engineering"
      ],
      "metadata": {
        "id": "Om5EefZhanFI"
      }
    },
    {
      "cell_type": "markdown",
      "source": [
        "## Feature Selection (ANOVA)"
      ],
      "metadata": {
        "id": "KUeljB6fbGSw"
      }
    },
    {
      "cell_type": "code",
      "source": [
        "from sklearn.feature_selection import f_classif\n",
        "from sklearn.feature_selection import SelectKBest\n",
        "\n",
        "X_train = pd.DataFrame(X_train)\n",
        "\n",
        "sel = SelectKBest(score_func=f_classif, k=20).fit(X_train, y_train)\n",
        "\n",
        "selected_features = X_train.columns[sel.get_support()]\n",
        "\n",
        "print(selected_features)"
      ],
      "metadata": {
        "colab": {
          "base_uri": "https://localhost:8080/"
        },
        "id": "BBxJElnMxmq8",
        "outputId": "7847fcf6-3e0e-454c-b1ec-89e3f0a6418d"
      },
      "execution_count": 18,
      "outputs": [
        {
          "output_type": "stream",
          "name": "stdout",
          "text": [
            "Index([1, 2, 5, 6, 7, 11, 12, 13, 14, 16, 17, 18, 19, 20, 21, 22, 45, 48, 49,\n",
            "       51],\n",
            "      dtype='int64')\n"
          ]
        },
        {
          "output_type": "stream",
          "name": "stderr",
          "text": [
            "/usr/local/lib/python3.10/dist-packages/sklearn/feature_selection/_univariate_selection.py:112: UserWarning: Features [ 3  9 50] are constant.\n",
            "  warnings.warn(\"Features %s are constant.\" % constant_features_idx, UserWarning)\n",
            "/usr/local/lib/python3.10/dist-packages/sklearn/feature_selection/_univariate_selection.py:113: RuntimeWarning: invalid value encountered in divide\n",
            "  f = msb / msw\n"
          ]
        }
      ]
    },
    {
      "cell_type": "code",
      "source": [
        "X_train = sel.transform(X_train)\n",
        "X_test = sel.transform(X_test)\n",
        "\n",
        "X_train = pd.DataFrame(X_train, columns=selected_features)\n",
        "X_test = pd.DataFrame(X_test, columns=selected_features)"
      ],
      "metadata": {
        "id": "ylzo3Bbtz6B4"
      },
      "execution_count": 19,
      "outputs": []
    },
    {
      "cell_type": "code",
      "source": [
        "X_test"
      ],
      "metadata": {
        "colab": {
          "base_uri": "https://localhost:8080/",
          "height": 443
        },
        "id": "rTiMTbwmwGkL",
        "outputId": "08f041d6-2745-43be-ac71-d4bc4f75dffd",
        "collapsed": true
      },
      "execution_count": 20,
      "outputs": [
        {
          "output_type": "execute_result",
          "data": {
            "text/plain": [
              "             1         2         5         6         7         11        12  \\\n",
              "0      1.992045 -0.173631  2.363637  0.595674  0.724343  1.401844  3.387391   \n",
              "1      0.485615 -0.364898 -0.072148 -0.015750  0.009124 -0.019105  0.088906   \n",
              "2      0.109007 -0.409149 -0.789267 -0.686036 -0.334844 -0.750021 -0.493180   \n",
              "3      0.862222 -0.639780 -0.423143 -0.839904 -0.249605 -0.580300  0.282934   \n",
              "4      0.109007 -0.860661 -0.883068 -0.824155 -0.384144 -0.851606 -0.493180   \n",
              "...         ...       ...       ...       ...       ...       ...       ...   \n",
              "11715  0.862222 -1.151669 -0.519969 -0.969216 -0.307372 -0.709139  0.282934   \n",
              "11716  1.238830 -0.464276 -0.038864 -0.326699  0.066702  0.195214  0.476963   \n",
              "11717 -1.020816  1.667452  0.838624  1.478732  0.407848  0.928607 -0.105123   \n",
              "11718 -1.020816  1.252382  1.449840  1.451059  0.625368  1.793318  0.670991   \n",
              "11719  0.485615 -0.860258 -0.822551 -0.906581 -0.351779 -0.834262 -0.493180   \n",
              "\n",
              "             13        14        16        17        18        19        20  \\\n",
              "0      2.657398  1.395119  1.815815  2.380102  1.455922  2.322455  2.664781   \n",
              "1      0.498860 -0.336507  0.361763 -0.024186  0.194176  0.207845  1.122315   \n",
              "2     -0.798910 -0.634195 -0.523311 -0.692044 -0.767479 -0.733497 -0.739282   \n",
              "3     -0.454604 -0.437134 -0.291506 -0.291329 -0.726558 -0.556143 -0.632905   \n",
              "4     -0.732697 -0.965427 -0.881556 -0.758830 -0.760659 -0.788068 -0.898848   \n",
              "...         ...       ...       ...       ...       ...       ...       ...   \n",
              "11715 -0.487710 -0.831257 -0.723507 -0.291329 -0.706097 -0.624356 -0.526528   \n",
              "11716  0.770333 -0.193952  0.330154  0.176171  0.351042  0.276058  0.643619   \n",
              "11717  0.829924  1.177093  0.846447  0.643672  0.869381  1.735821  0.909561   \n",
              "11718  0.783575  1.583795  1.067716  1.044386  1.169472  1.531182  1.654200   \n",
              "11719 -0.494331 -0.806100 -0.481165 -0.758830 -0.815221 -0.801711 -0.952036   \n",
              "\n",
              "             21        22        45        48        49        51  \n",
              "0      2.931434  2.664873  0.139888 -0.695142  0.705692  2.111697  \n",
              "1      0.929706  1.122285  0.139888 -0.695142  0.705692  1.760019  \n",
              "2     -0.699608 -0.739460 -0.500920 -0.695142 -0.552989  0.001628  \n",
              "3     -0.420297 -0.633074 -0.500920 -0.695142 -0.552989  0.001628  \n",
              "4     -0.839263 -0.899038 -0.500920 -0.695142 -0.552989  0.001628  \n",
              "...         ...       ...       ...       ...       ...       ...  \n",
              "11715 -0.327193 -0.526689 -0.500920 -0.695142 -0.552989  0.001628  \n",
              "11716  0.557291  0.643550  0.139888 -0.695142  0.705692  1.408341  \n",
              "11717  0.743498  0.909514  0.780695  1.262571  0.705692  0.353306  \n",
              "11718  1.581431  1.654212  0.780695  1.262571  0.705692  0.704984  \n",
              "11719 -0.885815 -0.952231 -0.500920 -0.695142 -0.552989 -1.053406  \n",
              "\n",
              "[11720 rows x 20 columns]"
            ],
            "text/html": [
              "\n",
              "  <div id=\"df-df927bf5-4245-4ef1-88ae-cda1c3acabb7\" class=\"colab-df-container\">\n",
              "    <div>\n",
              "<style scoped>\n",
              "    .dataframe tbody tr th:only-of-type {\n",
              "        vertical-align: middle;\n",
              "    }\n",
              "\n",
              "    .dataframe tbody tr th {\n",
              "        vertical-align: top;\n",
              "    }\n",
              "\n",
              "    .dataframe thead th {\n",
              "        text-align: right;\n",
              "    }\n",
              "</style>\n",
              "<table border=\"1\" class=\"dataframe\">\n",
              "  <thead>\n",
              "    <tr style=\"text-align: right;\">\n",
              "      <th></th>\n",
              "      <th>1</th>\n",
              "      <th>2</th>\n",
              "      <th>5</th>\n",
              "      <th>6</th>\n",
              "      <th>7</th>\n",
              "      <th>11</th>\n",
              "      <th>12</th>\n",
              "      <th>13</th>\n",
              "      <th>14</th>\n",
              "      <th>16</th>\n",
              "      <th>17</th>\n",
              "      <th>18</th>\n",
              "      <th>19</th>\n",
              "      <th>20</th>\n",
              "      <th>21</th>\n",
              "      <th>22</th>\n",
              "      <th>45</th>\n",
              "      <th>48</th>\n",
              "      <th>49</th>\n",
              "      <th>51</th>\n",
              "    </tr>\n",
              "  </thead>\n",
              "  <tbody>\n",
              "    <tr>\n",
              "      <th>0</th>\n",
              "      <td>1.992045</td>\n",
              "      <td>-0.173631</td>\n",
              "      <td>2.363637</td>\n",
              "      <td>0.595674</td>\n",
              "      <td>0.724343</td>\n",
              "      <td>1.401844</td>\n",
              "      <td>3.387391</td>\n",
              "      <td>2.657398</td>\n",
              "      <td>1.395119</td>\n",
              "      <td>1.815815</td>\n",
              "      <td>2.380102</td>\n",
              "      <td>1.455922</td>\n",
              "      <td>2.322455</td>\n",
              "      <td>2.664781</td>\n",
              "      <td>2.931434</td>\n",
              "      <td>2.664873</td>\n",
              "      <td>0.139888</td>\n",
              "      <td>-0.695142</td>\n",
              "      <td>0.705692</td>\n",
              "      <td>2.111697</td>\n",
              "    </tr>\n",
              "    <tr>\n",
              "      <th>1</th>\n",
              "      <td>0.485615</td>\n",
              "      <td>-0.364898</td>\n",
              "      <td>-0.072148</td>\n",
              "      <td>-0.015750</td>\n",
              "      <td>0.009124</td>\n",
              "      <td>-0.019105</td>\n",
              "      <td>0.088906</td>\n",
              "      <td>0.498860</td>\n",
              "      <td>-0.336507</td>\n",
              "      <td>0.361763</td>\n",
              "      <td>-0.024186</td>\n",
              "      <td>0.194176</td>\n",
              "      <td>0.207845</td>\n",
              "      <td>1.122315</td>\n",
              "      <td>0.929706</td>\n",
              "      <td>1.122285</td>\n",
              "      <td>0.139888</td>\n",
              "      <td>-0.695142</td>\n",
              "      <td>0.705692</td>\n",
              "      <td>1.760019</td>\n",
              "    </tr>\n",
              "    <tr>\n",
              "      <th>2</th>\n",
              "      <td>0.109007</td>\n",
              "      <td>-0.409149</td>\n",
              "      <td>-0.789267</td>\n",
              "      <td>-0.686036</td>\n",
              "      <td>-0.334844</td>\n",
              "      <td>-0.750021</td>\n",
              "      <td>-0.493180</td>\n",
              "      <td>-0.798910</td>\n",
              "      <td>-0.634195</td>\n",
              "      <td>-0.523311</td>\n",
              "      <td>-0.692044</td>\n",
              "      <td>-0.767479</td>\n",
              "      <td>-0.733497</td>\n",
              "      <td>-0.739282</td>\n",
              "      <td>-0.699608</td>\n",
              "      <td>-0.739460</td>\n",
              "      <td>-0.500920</td>\n",
              "      <td>-0.695142</td>\n",
              "      <td>-0.552989</td>\n",
              "      <td>0.001628</td>\n",
              "    </tr>\n",
              "    <tr>\n",
              "      <th>3</th>\n",
              "      <td>0.862222</td>\n",
              "      <td>-0.639780</td>\n",
              "      <td>-0.423143</td>\n",
              "      <td>-0.839904</td>\n",
              "      <td>-0.249605</td>\n",
              "      <td>-0.580300</td>\n",
              "      <td>0.282934</td>\n",
              "      <td>-0.454604</td>\n",
              "      <td>-0.437134</td>\n",
              "      <td>-0.291506</td>\n",
              "      <td>-0.291329</td>\n",
              "      <td>-0.726558</td>\n",
              "      <td>-0.556143</td>\n",
              "      <td>-0.632905</td>\n",
              "      <td>-0.420297</td>\n",
              "      <td>-0.633074</td>\n",
              "      <td>-0.500920</td>\n",
              "      <td>-0.695142</td>\n",
              "      <td>-0.552989</td>\n",
              "      <td>0.001628</td>\n",
              "    </tr>\n",
              "    <tr>\n",
              "      <th>4</th>\n",
              "      <td>0.109007</td>\n",
              "      <td>-0.860661</td>\n",
              "      <td>-0.883068</td>\n",
              "      <td>-0.824155</td>\n",
              "      <td>-0.384144</td>\n",
              "      <td>-0.851606</td>\n",
              "      <td>-0.493180</td>\n",
              "      <td>-0.732697</td>\n",
              "      <td>-0.965427</td>\n",
              "      <td>-0.881556</td>\n",
              "      <td>-0.758830</td>\n",
              "      <td>-0.760659</td>\n",
              "      <td>-0.788068</td>\n",
              "      <td>-0.898848</td>\n",
              "      <td>-0.839263</td>\n",
              "      <td>-0.899038</td>\n",
              "      <td>-0.500920</td>\n",
              "      <td>-0.695142</td>\n",
              "      <td>-0.552989</td>\n",
              "      <td>0.001628</td>\n",
              "    </tr>\n",
              "    <tr>\n",
              "      <th>...</th>\n",
              "      <td>...</td>\n",
              "      <td>...</td>\n",
              "      <td>...</td>\n",
              "      <td>...</td>\n",
              "      <td>...</td>\n",
              "      <td>...</td>\n",
              "      <td>...</td>\n",
              "      <td>...</td>\n",
              "      <td>...</td>\n",
              "      <td>...</td>\n",
              "      <td>...</td>\n",
              "      <td>...</td>\n",
              "      <td>...</td>\n",
              "      <td>...</td>\n",
              "      <td>...</td>\n",
              "      <td>...</td>\n",
              "      <td>...</td>\n",
              "      <td>...</td>\n",
              "      <td>...</td>\n",
              "      <td>...</td>\n",
              "    </tr>\n",
              "    <tr>\n",
              "      <th>11715</th>\n",
              "      <td>0.862222</td>\n",
              "      <td>-1.151669</td>\n",
              "      <td>-0.519969</td>\n",
              "      <td>-0.969216</td>\n",
              "      <td>-0.307372</td>\n",
              "      <td>-0.709139</td>\n",
              "      <td>0.282934</td>\n",
              "      <td>-0.487710</td>\n",
              "      <td>-0.831257</td>\n",
              "      <td>-0.723507</td>\n",
              "      <td>-0.291329</td>\n",
              "      <td>-0.706097</td>\n",
              "      <td>-0.624356</td>\n",
              "      <td>-0.526528</td>\n",
              "      <td>-0.327193</td>\n",
              "      <td>-0.526689</td>\n",
              "      <td>-0.500920</td>\n",
              "      <td>-0.695142</td>\n",
              "      <td>-0.552989</td>\n",
              "      <td>0.001628</td>\n",
              "    </tr>\n",
              "    <tr>\n",
              "      <th>11716</th>\n",
              "      <td>1.238830</td>\n",
              "      <td>-0.464276</td>\n",
              "      <td>-0.038864</td>\n",
              "      <td>-0.326699</td>\n",
              "      <td>0.066702</td>\n",
              "      <td>0.195214</td>\n",
              "      <td>0.476963</td>\n",
              "      <td>0.770333</td>\n",
              "      <td>-0.193952</td>\n",
              "      <td>0.330154</td>\n",
              "      <td>0.176171</td>\n",
              "      <td>0.351042</td>\n",
              "      <td>0.276058</td>\n",
              "      <td>0.643619</td>\n",
              "      <td>0.557291</td>\n",
              "      <td>0.643550</td>\n",
              "      <td>0.139888</td>\n",
              "      <td>-0.695142</td>\n",
              "      <td>0.705692</td>\n",
              "      <td>1.408341</td>\n",
              "    </tr>\n",
              "    <tr>\n",
              "      <th>11717</th>\n",
              "      <td>-1.020816</td>\n",
              "      <td>1.667452</td>\n",
              "      <td>0.838624</td>\n",
              "      <td>1.478732</td>\n",
              "      <td>0.407848</td>\n",
              "      <td>0.928607</td>\n",
              "      <td>-0.105123</td>\n",
              "      <td>0.829924</td>\n",
              "      <td>1.177093</td>\n",
              "      <td>0.846447</td>\n",
              "      <td>0.643672</td>\n",
              "      <td>0.869381</td>\n",
              "      <td>1.735821</td>\n",
              "      <td>0.909561</td>\n",
              "      <td>0.743498</td>\n",
              "      <td>0.909514</td>\n",
              "      <td>0.780695</td>\n",
              "      <td>1.262571</td>\n",
              "      <td>0.705692</td>\n",
              "      <td>0.353306</td>\n",
              "    </tr>\n",
              "    <tr>\n",
              "      <th>11718</th>\n",
              "      <td>-1.020816</td>\n",
              "      <td>1.252382</td>\n",
              "      <td>1.449840</td>\n",
              "      <td>1.451059</td>\n",
              "      <td>0.625368</td>\n",
              "      <td>1.793318</td>\n",
              "      <td>0.670991</td>\n",
              "      <td>0.783575</td>\n",
              "      <td>1.583795</td>\n",
              "      <td>1.067716</td>\n",
              "      <td>1.044386</td>\n",
              "      <td>1.169472</td>\n",
              "      <td>1.531182</td>\n",
              "      <td>1.654200</td>\n",
              "      <td>1.581431</td>\n",
              "      <td>1.654212</td>\n",
              "      <td>0.780695</td>\n",
              "      <td>1.262571</td>\n",
              "      <td>0.705692</td>\n",
              "      <td>0.704984</td>\n",
              "    </tr>\n",
              "    <tr>\n",
              "      <th>11719</th>\n",
              "      <td>0.485615</td>\n",
              "      <td>-0.860258</td>\n",
              "      <td>-0.822551</td>\n",
              "      <td>-0.906581</td>\n",
              "      <td>-0.351779</td>\n",
              "      <td>-0.834262</td>\n",
              "      <td>-0.493180</td>\n",
              "      <td>-0.494331</td>\n",
              "      <td>-0.806100</td>\n",
              "      <td>-0.481165</td>\n",
              "      <td>-0.758830</td>\n",
              "      <td>-0.815221</td>\n",
              "      <td>-0.801711</td>\n",
              "      <td>-0.952036</td>\n",
              "      <td>-0.885815</td>\n",
              "      <td>-0.952231</td>\n",
              "      <td>-0.500920</td>\n",
              "      <td>-0.695142</td>\n",
              "      <td>-0.552989</td>\n",
              "      <td>-1.053406</td>\n",
              "    </tr>\n",
              "  </tbody>\n",
              "</table>\n",
              "<p>11720 rows × 20 columns</p>\n",
              "</div>\n",
              "    <div class=\"colab-df-buttons\">\n",
              "\n",
              "  <div class=\"colab-df-container\">\n",
              "    <button class=\"colab-df-convert\" onclick=\"convertToInteractive('df-df927bf5-4245-4ef1-88ae-cda1c3acabb7')\"\n",
              "            title=\"Convert this dataframe to an interactive table.\"\n",
              "            style=\"display:none;\">\n",
              "\n",
              "  <svg xmlns=\"http://www.w3.org/2000/svg\" height=\"24px\" viewBox=\"0 -960 960 960\">\n",
              "    <path d=\"M120-120v-720h720v720H120Zm60-500h600v-160H180v160Zm220 220h160v-160H400v160Zm0 220h160v-160H400v160ZM180-400h160v-160H180v160Zm440 0h160v-160H620v160ZM180-180h160v-160H180v160Zm440 0h160v-160H620v160Z\"/>\n",
              "  </svg>\n",
              "    </button>\n",
              "\n",
              "  <style>\n",
              "    .colab-df-container {\n",
              "      display:flex;\n",
              "      gap: 12px;\n",
              "    }\n",
              "\n",
              "    .colab-df-convert {\n",
              "      background-color: #E8F0FE;\n",
              "      border: none;\n",
              "      border-radius: 50%;\n",
              "      cursor: pointer;\n",
              "      display: none;\n",
              "      fill: #1967D2;\n",
              "      height: 32px;\n",
              "      padding: 0 0 0 0;\n",
              "      width: 32px;\n",
              "    }\n",
              "\n",
              "    .colab-df-convert:hover {\n",
              "      background-color: #E2EBFA;\n",
              "      box-shadow: 0px 1px 2px rgba(60, 64, 67, 0.3), 0px 1px 3px 1px rgba(60, 64, 67, 0.15);\n",
              "      fill: #174EA6;\n",
              "    }\n",
              "\n",
              "    .colab-df-buttons div {\n",
              "      margin-bottom: 4px;\n",
              "    }\n",
              "\n",
              "    [theme=dark] .colab-df-convert {\n",
              "      background-color: #3B4455;\n",
              "      fill: #D2E3FC;\n",
              "    }\n",
              "\n",
              "    [theme=dark] .colab-df-convert:hover {\n",
              "      background-color: #434B5C;\n",
              "      box-shadow: 0px 1px 3px 1px rgba(0, 0, 0, 0.15);\n",
              "      filter: drop-shadow(0px 1px 2px rgba(0, 0, 0, 0.3));\n",
              "      fill: #FFFFFF;\n",
              "    }\n",
              "  </style>\n",
              "\n",
              "    <script>\n",
              "      const buttonEl =\n",
              "        document.querySelector('#df-df927bf5-4245-4ef1-88ae-cda1c3acabb7 button.colab-df-convert');\n",
              "      buttonEl.style.display =\n",
              "        google.colab.kernel.accessAllowed ? 'block' : 'none';\n",
              "\n",
              "      async function convertToInteractive(key) {\n",
              "        const element = document.querySelector('#df-df927bf5-4245-4ef1-88ae-cda1c3acabb7');\n",
              "        const dataTable =\n",
              "          await google.colab.kernel.invokeFunction('convertToInteractive',\n",
              "                                                    [key], {});\n",
              "        if (!dataTable) return;\n",
              "\n",
              "        const docLinkHtml = 'Like what you see? Visit the ' +\n",
              "          '<a target=\"_blank\" href=https://colab.research.google.com/notebooks/data_table.ipynb>data table notebook</a>'\n",
              "          + ' to learn more about interactive tables.';\n",
              "        element.innerHTML = '';\n",
              "        dataTable['output_type'] = 'display_data';\n",
              "        await google.colab.output.renderOutput(dataTable, element);\n",
              "        const docLink = document.createElement('div');\n",
              "        docLink.innerHTML = docLinkHtml;\n",
              "        element.appendChild(docLink);\n",
              "      }\n",
              "    </script>\n",
              "  </div>\n",
              "\n",
              "\n",
              "<div id=\"df-d27c4f61-e9d6-40fb-bf00-f0ac63a39d92\">\n",
              "  <button class=\"colab-df-quickchart\" onclick=\"quickchart('df-d27c4f61-e9d6-40fb-bf00-f0ac63a39d92')\"\n",
              "            title=\"Suggest charts\"\n",
              "            style=\"display:none;\">\n",
              "\n",
              "<svg xmlns=\"http://www.w3.org/2000/svg\" height=\"24px\"viewBox=\"0 0 24 24\"\n",
              "     width=\"24px\">\n",
              "    <g>\n",
              "        <path d=\"M19 3H5c-1.1 0-2 .9-2 2v14c0 1.1.9 2 2 2h14c1.1 0 2-.9 2-2V5c0-1.1-.9-2-2-2zM9 17H7v-7h2v7zm4 0h-2V7h2v10zm4 0h-2v-4h2v4z\"/>\n",
              "    </g>\n",
              "</svg>\n",
              "  </button>\n",
              "\n",
              "<style>\n",
              "  .colab-df-quickchart {\n",
              "      --bg-color: #E8F0FE;\n",
              "      --fill-color: #1967D2;\n",
              "      --hover-bg-color: #E2EBFA;\n",
              "      --hover-fill-color: #174EA6;\n",
              "      --disabled-fill-color: #AAA;\n",
              "      --disabled-bg-color: #DDD;\n",
              "  }\n",
              "\n",
              "  [theme=dark] .colab-df-quickchart {\n",
              "      --bg-color: #3B4455;\n",
              "      --fill-color: #D2E3FC;\n",
              "      --hover-bg-color: #434B5C;\n",
              "      --hover-fill-color: #FFFFFF;\n",
              "      --disabled-bg-color: #3B4455;\n",
              "      --disabled-fill-color: #666;\n",
              "  }\n",
              "\n",
              "  .colab-df-quickchart {\n",
              "    background-color: var(--bg-color);\n",
              "    border: none;\n",
              "    border-radius: 50%;\n",
              "    cursor: pointer;\n",
              "    display: none;\n",
              "    fill: var(--fill-color);\n",
              "    height: 32px;\n",
              "    padding: 0;\n",
              "    width: 32px;\n",
              "  }\n",
              "\n",
              "  .colab-df-quickchart:hover {\n",
              "    background-color: var(--hover-bg-color);\n",
              "    box-shadow: 0 1px 2px rgba(60, 64, 67, 0.3), 0 1px 3px 1px rgba(60, 64, 67, 0.15);\n",
              "    fill: var(--button-hover-fill-color);\n",
              "  }\n",
              "\n",
              "  .colab-df-quickchart-complete:disabled,\n",
              "  .colab-df-quickchart-complete:disabled:hover {\n",
              "    background-color: var(--disabled-bg-color);\n",
              "    fill: var(--disabled-fill-color);\n",
              "    box-shadow: none;\n",
              "  }\n",
              "\n",
              "  .colab-df-spinner {\n",
              "    border: 2px solid var(--fill-color);\n",
              "    border-color: transparent;\n",
              "    border-bottom-color: var(--fill-color);\n",
              "    animation:\n",
              "      spin 1s steps(1) infinite;\n",
              "  }\n",
              "\n",
              "  @keyframes spin {\n",
              "    0% {\n",
              "      border-color: transparent;\n",
              "      border-bottom-color: var(--fill-color);\n",
              "      border-left-color: var(--fill-color);\n",
              "    }\n",
              "    20% {\n",
              "      border-color: transparent;\n",
              "      border-left-color: var(--fill-color);\n",
              "      border-top-color: var(--fill-color);\n",
              "    }\n",
              "    30% {\n",
              "      border-color: transparent;\n",
              "      border-left-color: var(--fill-color);\n",
              "      border-top-color: var(--fill-color);\n",
              "      border-right-color: var(--fill-color);\n",
              "    }\n",
              "    40% {\n",
              "      border-color: transparent;\n",
              "      border-right-color: var(--fill-color);\n",
              "      border-top-color: var(--fill-color);\n",
              "    }\n",
              "    60% {\n",
              "      border-color: transparent;\n",
              "      border-right-color: var(--fill-color);\n",
              "    }\n",
              "    80% {\n",
              "      border-color: transparent;\n",
              "      border-right-color: var(--fill-color);\n",
              "      border-bottom-color: var(--fill-color);\n",
              "    }\n",
              "    90% {\n",
              "      border-color: transparent;\n",
              "      border-bottom-color: var(--fill-color);\n",
              "    }\n",
              "  }\n",
              "</style>\n",
              "\n",
              "  <script>\n",
              "    async function quickchart(key) {\n",
              "      const quickchartButtonEl =\n",
              "        document.querySelector('#' + key + ' button');\n",
              "      quickchartButtonEl.disabled = true;  // To prevent multiple clicks.\n",
              "      quickchartButtonEl.classList.add('colab-df-spinner');\n",
              "      try {\n",
              "        const charts = await google.colab.kernel.invokeFunction(\n",
              "            'suggestCharts', [key], {});\n",
              "      } catch (error) {\n",
              "        console.error('Error during call to suggestCharts:', error);\n",
              "      }\n",
              "      quickchartButtonEl.classList.remove('colab-df-spinner');\n",
              "      quickchartButtonEl.classList.add('colab-df-quickchart-complete');\n",
              "    }\n",
              "    (() => {\n",
              "      let quickchartButtonEl =\n",
              "        document.querySelector('#df-d27c4f61-e9d6-40fb-bf00-f0ac63a39d92 button');\n",
              "      quickchartButtonEl.style.display =\n",
              "        google.colab.kernel.accessAllowed ? 'block' : 'none';\n",
              "    })();\n",
              "  </script>\n",
              "</div>\n",
              "\n",
              "  <div id=\"id_41495074-400d-4cea-81a5-6d1554084ece\">\n",
              "    <style>\n",
              "      .colab-df-generate {\n",
              "        background-color: #E8F0FE;\n",
              "        border: none;\n",
              "        border-radius: 50%;\n",
              "        cursor: pointer;\n",
              "        display: none;\n",
              "        fill: #1967D2;\n",
              "        height: 32px;\n",
              "        padding: 0 0 0 0;\n",
              "        width: 32px;\n",
              "      }\n",
              "\n",
              "      .colab-df-generate:hover {\n",
              "        background-color: #E2EBFA;\n",
              "        box-shadow: 0px 1px 2px rgba(60, 64, 67, 0.3), 0px 1px 3px 1px rgba(60, 64, 67, 0.15);\n",
              "        fill: #174EA6;\n",
              "      }\n",
              "\n",
              "      [theme=dark] .colab-df-generate {\n",
              "        background-color: #3B4455;\n",
              "        fill: #D2E3FC;\n",
              "      }\n",
              "\n",
              "      [theme=dark] .colab-df-generate:hover {\n",
              "        background-color: #434B5C;\n",
              "        box-shadow: 0px 1px 3px 1px rgba(0, 0, 0, 0.15);\n",
              "        filter: drop-shadow(0px 1px 2px rgba(0, 0, 0, 0.3));\n",
              "        fill: #FFFFFF;\n",
              "      }\n",
              "    </style>\n",
              "    <button class=\"colab-df-generate\" onclick=\"generateWithVariable('X_test')\"\n",
              "            title=\"Generate code using this dataframe.\"\n",
              "            style=\"display:none;\">\n",
              "\n",
              "  <svg xmlns=\"http://www.w3.org/2000/svg\" height=\"24px\"viewBox=\"0 0 24 24\"\n",
              "       width=\"24px\">\n",
              "    <path d=\"M7,19H8.4L18.45,9,17,7.55,7,17.6ZM5,21V16.75L18.45,3.32a2,2,0,0,1,2.83,0l1.4,1.43a1.91,1.91,0,0,1,.58,1.4,1.91,1.91,0,0,1-.58,1.4L9.25,21ZM18.45,9,17,7.55Zm-12,3A5.31,5.31,0,0,0,4.9,8.1,5.31,5.31,0,0,0,1,6.5,5.31,5.31,0,0,0,4.9,4.9,5.31,5.31,0,0,0,6.5,1,5.31,5.31,0,0,0,8.1,4.9,5.31,5.31,0,0,0,12,6.5,5.46,5.46,0,0,0,6.5,12Z\"/>\n",
              "  </svg>\n",
              "    </button>\n",
              "    <script>\n",
              "      (() => {\n",
              "      const buttonEl =\n",
              "        document.querySelector('#id_41495074-400d-4cea-81a5-6d1554084ece button.colab-df-generate');\n",
              "      buttonEl.style.display =\n",
              "        google.colab.kernel.accessAllowed ? 'block' : 'none';\n",
              "\n",
              "      buttonEl.onclick = () => {\n",
              "        google.colab.notebook.generateWithVariable('X_test');\n",
              "      }\n",
              "      })();\n",
              "    </script>\n",
              "  </div>\n",
              "\n",
              "    </div>\n",
              "  </div>\n"
            ],
            "application/vnd.google.colaboratory.intrinsic+json": {
              "type": "dataframe",
              "variable_name": "X_test",
              "summary": "{\n  \"name\": \"X_test\",\n  \"rows\": 11720,\n  \"fields\": [\n    {\n      \"column\": 1,\n      \"properties\": {\n        \"dtype\": \"number\",\n        \"std\": 1.002738003315766,\n        \"min\": -2.527245762939262,\n        \"max\": 17.809561083080013,\n        \"num_unique_values\": 32,\n        \"samples\": [\n          14.420093275410132,\n          2.368652181472785,\n          9.524195330998085\n        ],\n        \"semantic_type\": \"\",\n        \"description\": \"\"\n      }\n    },\n    {\n      \"column\": 2,\n      \"properties\": {\n        \"dtype\": \"number\",\n        \"std\": 0.9941061438925801,\n        \"min\": -6.095781243893167,\n        \"max\": 3.3576037895337096,\n        \"num_unique_values\": 6283,\n        \"samples\": [\n          0.7601779407058574,\n          1.2652552001084942,\n          0.9076126781463151\n        ],\n        \"semantic_type\": \"\",\n        \"description\": \"\"\n      }\n    },\n    {\n      \"column\": 5,\n      \"properties\": {\n        \"dtype\": \"number\",\n        \"std\": 0.9891683136602027,\n        \"min\": -2.7197402117619647,\n        \"max\": 4.6935184836074795,\n        \"num_unique_values\": 1275,\n        \"samples\": [\n          3.6405331668774523,\n          0.5602485334545566,\n          0.7085137073619454\n        ],\n        \"semantic_type\": \"\",\n        \"description\": \"\"\n      }\n    },\n    {\n      \"column\": 6,\n      \"properties\": {\n        \"dtype\": \"number\",\n        \"std\": 0.9886592448362648,\n        \"min\": -6.322175197749875,\n        \"max\": 1.604497999898883,\n        \"num_unique_values\": 4073,\n        \"samples\": [\n          1.02819960641108,\n          1.0032488328809466,\n          1.460360794501286\n        ],\n        \"semantic_type\": \"\",\n        \"description\": \"\"\n      }\n    },\n    {\n      \"column\": 7,\n      \"properties\": {\n        \"dtype\": \"number\",\n        \"std\": 0.43955922284925875,\n        \"min\": -0.9907914306797491,\n        \"max\": 7.129518927347714,\n        \"num_unique_values\": 4317,\n        \"samples\": [\n          0.5485958718117971,\n          -0.3871544099741042,\n          0.3229846536615265\n        ],\n        \"semantic_type\": \"\",\n        \"description\": \"\"\n      }\n    },\n    {\n      \"column\": 11,\n      \"properties\": {\n        \"dtype\": \"number\",\n        \"std\": 0.9889960851984161,\n        \"min\": -2.4633369011399497,\n        \"max\": 5.347550211126955,\n        \"num_unique_values\": 2268,\n        \"samples\": [\n          1.0611633105015006,\n          -1.9021423155956345,\n          -0.10706294594063924\n        ],\n        \"semantic_type\": \"\",\n        \"description\": \"\"\n      }\n    },\n    {\n      \"column\": 12,\n      \"properties\": {\n        \"dtype\": \"number\",\n        \"std\": 1.0070727814124136,\n        \"min\": -4.179722455282296,\n        \"max\": 22.20816010547873,\n        \"num_unique_values\": 54,\n        \"samples\": [\n          -1.0752656834280578,\n          -3.015551165836957,\n          4.163505119075969\n        ],\n        \"semantic_type\": \"\",\n        \"description\": \"\"\n      }\n    },\n    {\n      \"column\": 13,\n      \"properties\": {\n        \"dtype\": \"number\",\n        \"std\": 0.9791997317757539,\n        \"min\": -2.9640685538210887,\n        \"max\": 10.437400580155703,\n        \"num_unique_values\": 800,\n        \"samples\": [\n          1.4125970082138224,\n          -0.8982294383068795,\n          0.6776350151943441\n        ],\n        \"semantic_type\": \"\",\n        \"description\": \"\"\n      }\n    },\n    {\n      \"column\": 14,\n      \"properties\": {\n        \"dtype\": \"number\",\n        \"std\": 0.9854214576217311,\n        \"min\": -1.9758908900670717,\n        \"max\": 4.514560834787032,\n        \"num_unique_values\": 945,\n        \"samples\": [\n          -1.8207573540078974,\n          -1.3343927544710266,\n          -0.5419538810876766\n        ],\n        \"semantic_type\": \"\",\n        \"description\": \"\"\n      }\n    },\n    {\n      \"column\": 16,\n      \"properties\": {\n        \"dtype\": \"number\",\n        \"std\": 0.9799023517062128,\n        \"min\": -3.2944387492049647,\n        \"max\": 3.628111270003526,\n        \"num_unique_values\": 519,\n        \"samples\": [\n          -0.07023737039553077,\n          1.1730821155505908,\n          -0.8183363831258242\n        ],\n        \"semantic_type\": \"\",\n        \"description\": \"\"\n      }\n    },\n    {\n      \"column\": 17,\n      \"properties\": {\n        \"dtype\": \"number\",\n        \"std\": 0.9972802348335718,\n        \"min\": -3.0295468801395806,\n        \"max\": 5.852963367530775,\n        \"num_unique_values\": 106,\n        \"samples\": [\n          5.852963367530775,\n          -0.09097206136141814,\n          -0.7588299747200914\n        ],\n        \"semantic_type\": \"\",\n        \"description\": \"\"\n      }\n    },\n    {\n      \"column\": 18,\n      \"properties\": {\n        \"dtype\": \"number\",\n        \"std\": 0.9172270687103171,\n        \"min\": -1.5108868481432403,\n        \"max\": 28.034441094957746,\n        \"num_unique_values\": 510,\n        \"samples\": [\n          1.6400691790295796,\n          -0.5492314372528342,\n          -0.22185938248163217\n        ],\n        \"semantic_type\": \"\",\n        \"description\": \"\"\n      }\n    },\n    {\n      \"column\": 19,\n      \"properties\": {\n        \"dtype\": \"number\",\n        \"std\": 0.9912911511350635,\n        \"min\": -1.9749781247616804,\n        \"max\": 3.604863906282555,\n        \"num_unique_values\": 360,\n        \"samples\": [\n          -1.156419391601157,\n          1.0127612512742306,\n          -0.20143420291387945\n        ],\n        \"semantic_type\": \"\",\n        \"description\": \"\"\n      }\n    },\n    {\n      \"column\": 20,\n      \"properties\": {\n        \"dtype\": \"number\",\n        \"std\": 0.989277540734726,\n        \"min\": -2.8668215850393177,\n        \"max\": 9.472907543158849,\n        \"num_unique_values\": 129,\n        \"samples\": [\n          0.6968070856041183,\n          2.3456502018719765,\n          -0.10102022871903903\n        ],\n        \"semantic_type\": \"\",\n        \"description\": \"\"\n      }\n    },\n    {\n      \"column\": 21,\n      \"properties\": {\n        \"dtype\": \"number\",\n        \"std\": 0.9898135655950514,\n        \"min\": -3.9116835322905996,\n        \"max\": 7.540063951508254,\n        \"num_unique_values\": 159,\n        \"samples\": [\n          -1.2582298470201332,\n          2.6055711332859843,\n          -2.2823698658964537\n        ],\n        \"semantic_type\": \"\",\n        \"description\": \"\"\n      }\n    },\n    {\n      \"column\": 22,\n      \"properties\": {\n        \"dtype\": \"number\",\n        \"std\": 0.9892800457739565,\n        \"min\": -2.8671675919894746,\n        \"max\": 9.47353800591849,\n        \"num_unique_values\": 129,\n        \"samples\": [\n          0.6967430763718769,\n          2.345716669195786,\n          -0.10114737176872417\n        ],\n        \"semantic_type\": \"\",\n        \"description\": \"\"\n      }\n    },\n    {\n      \"column\": 45,\n      \"properties\": {\n        \"dtype\": \"number\",\n        \"std\": 0.825116956408114,\n        \"min\": -18.657129817080204,\n        \"max\": 0.7806952588459272,\n        \"num_unique_values\": 18,\n        \"samples\": [\n          0.13988783876045024,\n          -0.5009195813250267,\n          -2.8505467883051083\n        ],\n        \"semantic_type\": \"\",\n        \"description\": \"\"\n      }\n    },\n    {\n      \"column\": 48,\n      \"properties\": {\n        \"dtype\": \"number\",\n        \"std\": 0.9909091645165443,\n        \"min\": -5.2631412640050055,\n        \"max\": 1.2625714393721477,\n        \"num_unique_values\": 9,\n        \"samples\": [\n          -3.3054274529918595,\n          1.2625714393721477,\n          -2.652856182654144\n        ],\n        \"semantic_type\": \"\",\n        \"description\": \"\"\n      }\n    },\n    {\n      \"column\": 49,\n      \"properties\": {\n        \"dtype\": \"number\",\n        \"std\": 0.8719168771926356,\n        \"min\": -16.286496104001635,\n        \"max\": 0.7056919110754769,\n        \"num_unique_values\": 12,\n        \"samples\": [\n          -13.769134916582804,\n          -16.286496104001635,\n          0.7056919110754769\n        ],\n        \"semantic_type\": \"\",\n        \"description\": \"\"\n      }\n    },\n    {\n      \"column\": 51,\n      \"properties\": {\n        \"dtype\": \"number\",\n        \"std\": 0.9631394438802829,\n        \"min\": -8.438647044575957,\n        \"max\": 2.4633748887048803,\n        \"num_unique_values\": 24,\n        \"samples\": [\n          -0.35005012633533583,\n          -3.515153268255579,\n          2.111696761824853\n        ],\n        \"semantic_type\": \"\",\n        \"description\": \"\"\n      }\n    }\n  ]\n}"
            }
          },
          "metadata": {},
          "execution_count": 20
        }
      ]
    },
    {
      "cell_type": "code",
      "source": [
        "data_profiling(X_test)"
      ],
      "metadata": {
        "colab": {
          "base_uri": "https://localhost:8080/",
          "height": 676
        },
        "id": "A9qYHJnpbQs8",
        "outputId": "055cb54f-209e-4739-a0a6-a28f281ba61b"
      },
      "execution_count": 21,
      "outputs": [
        {
          "output_type": "execute_result",
          "data": {
            "text/plain": [
              "    column   dtypes  nunique  null  duplicates\n",
              "0        1  float64       32     0       11688\n",
              "1        2  float64     6283     0        5437\n",
              "2        5  float64     1275     0       10445\n",
              "3        6  float64     4073     0        7647\n",
              "4        7  float64     4317     0        7403\n",
              "5       11  float64     2268     0        9452\n",
              "6       12  float64       54     0       11666\n",
              "7       13  float64      800     0       10920\n",
              "8       14  float64      945     0       10775\n",
              "9       16  float64      519     0       11201\n",
              "10      17  float64      106     0       11614\n",
              "11      18  float64      510     0       11210\n",
              "12      19  float64      360     0       11360\n",
              "13      20  float64      129     0       11591\n",
              "14      21  float64      159     0       11561\n",
              "15      22  float64      129     0       11591\n",
              "16      45  float64       18     0       11702\n",
              "17      48  float64        9     0       11711\n",
              "18      49  float64       12     0       11708\n",
              "19      51  float64       24     0       11696"
            ],
            "text/html": [
              "\n",
              "  <div id=\"df-604e34ed-5e6c-4d83-99f7-bf99e51016cd\" class=\"colab-df-container\">\n",
              "    <div>\n",
              "<style scoped>\n",
              "    .dataframe tbody tr th:only-of-type {\n",
              "        vertical-align: middle;\n",
              "    }\n",
              "\n",
              "    .dataframe tbody tr th {\n",
              "        vertical-align: top;\n",
              "    }\n",
              "\n",
              "    .dataframe thead th {\n",
              "        text-align: right;\n",
              "    }\n",
              "</style>\n",
              "<table border=\"1\" class=\"dataframe\">\n",
              "  <thead>\n",
              "    <tr style=\"text-align: right;\">\n",
              "      <th></th>\n",
              "      <th>column</th>\n",
              "      <th>dtypes</th>\n",
              "      <th>nunique</th>\n",
              "      <th>null</th>\n",
              "      <th>duplicates</th>\n",
              "    </tr>\n",
              "  </thead>\n",
              "  <tbody>\n",
              "    <tr>\n",
              "      <th>0</th>\n",
              "      <td>1</td>\n",
              "      <td>float64</td>\n",
              "      <td>32</td>\n",
              "      <td>0</td>\n",
              "      <td>11688</td>\n",
              "    </tr>\n",
              "    <tr>\n",
              "      <th>1</th>\n",
              "      <td>2</td>\n",
              "      <td>float64</td>\n",
              "      <td>6283</td>\n",
              "      <td>0</td>\n",
              "      <td>5437</td>\n",
              "    </tr>\n",
              "    <tr>\n",
              "      <th>2</th>\n",
              "      <td>5</td>\n",
              "      <td>float64</td>\n",
              "      <td>1275</td>\n",
              "      <td>0</td>\n",
              "      <td>10445</td>\n",
              "    </tr>\n",
              "    <tr>\n",
              "      <th>3</th>\n",
              "      <td>6</td>\n",
              "      <td>float64</td>\n",
              "      <td>4073</td>\n",
              "      <td>0</td>\n",
              "      <td>7647</td>\n",
              "    </tr>\n",
              "    <tr>\n",
              "      <th>4</th>\n",
              "      <td>7</td>\n",
              "      <td>float64</td>\n",
              "      <td>4317</td>\n",
              "      <td>0</td>\n",
              "      <td>7403</td>\n",
              "    </tr>\n",
              "    <tr>\n",
              "      <th>5</th>\n",
              "      <td>11</td>\n",
              "      <td>float64</td>\n",
              "      <td>2268</td>\n",
              "      <td>0</td>\n",
              "      <td>9452</td>\n",
              "    </tr>\n",
              "    <tr>\n",
              "      <th>6</th>\n",
              "      <td>12</td>\n",
              "      <td>float64</td>\n",
              "      <td>54</td>\n",
              "      <td>0</td>\n",
              "      <td>11666</td>\n",
              "    </tr>\n",
              "    <tr>\n",
              "      <th>7</th>\n",
              "      <td>13</td>\n",
              "      <td>float64</td>\n",
              "      <td>800</td>\n",
              "      <td>0</td>\n",
              "      <td>10920</td>\n",
              "    </tr>\n",
              "    <tr>\n",
              "      <th>8</th>\n",
              "      <td>14</td>\n",
              "      <td>float64</td>\n",
              "      <td>945</td>\n",
              "      <td>0</td>\n",
              "      <td>10775</td>\n",
              "    </tr>\n",
              "    <tr>\n",
              "      <th>9</th>\n",
              "      <td>16</td>\n",
              "      <td>float64</td>\n",
              "      <td>519</td>\n",
              "      <td>0</td>\n",
              "      <td>11201</td>\n",
              "    </tr>\n",
              "    <tr>\n",
              "      <th>10</th>\n",
              "      <td>17</td>\n",
              "      <td>float64</td>\n",
              "      <td>106</td>\n",
              "      <td>0</td>\n",
              "      <td>11614</td>\n",
              "    </tr>\n",
              "    <tr>\n",
              "      <th>11</th>\n",
              "      <td>18</td>\n",
              "      <td>float64</td>\n",
              "      <td>510</td>\n",
              "      <td>0</td>\n",
              "      <td>11210</td>\n",
              "    </tr>\n",
              "    <tr>\n",
              "      <th>12</th>\n",
              "      <td>19</td>\n",
              "      <td>float64</td>\n",
              "      <td>360</td>\n",
              "      <td>0</td>\n",
              "      <td>11360</td>\n",
              "    </tr>\n",
              "    <tr>\n",
              "      <th>13</th>\n",
              "      <td>20</td>\n",
              "      <td>float64</td>\n",
              "      <td>129</td>\n",
              "      <td>0</td>\n",
              "      <td>11591</td>\n",
              "    </tr>\n",
              "    <tr>\n",
              "      <th>14</th>\n",
              "      <td>21</td>\n",
              "      <td>float64</td>\n",
              "      <td>159</td>\n",
              "      <td>0</td>\n",
              "      <td>11561</td>\n",
              "    </tr>\n",
              "    <tr>\n",
              "      <th>15</th>\n",
              "      <td>22</td>\n",
              "      <td>float64</td>\n",
              "      <td>129</td>\n",
              "      <td>0</td>\n",
              "      <td>11591</td>\n",
              "    </tr>\n",
              "    <tr>\n",
              "      <th>16</th>\n",
              "      <td>45</td>\n",
              "      <td>float64</td>\n",
              "      <td>18</td>\n",
              "      <td>0</td>\n",
              "      <td>11702</td>\n",
              "    </tr>\n",
              "    <tr>\n",
              "      <th>17</th>\n",
              "      <td>48</td>\n",
              "      <td>float64</td>\n",
              "      <td>9</td>\n",
              "      <td>0</td>\n",
              "      <td>11711</td>\n",
              "    </tr>\n",
              "    <tr>\n",
              "      <th>18</th>\n",
              "      <td>49</td>\n",
              "      <td>float64</td>\n",
              "      <td>12</td>\n",
              "      <td>0</td>\n",
              "      <td>11708</td>\n",
              "    </tr>\n",
              "    <tr>\n",
              "      <th>19</th>\n",
              "      <td>51</td>\n",
              "      <td>float64</td>\n",
              "      <td>24</td>\n",
              "      <td>0</td>\n",
              "      <td>11696</td>\n",
              "    </tr>\n",
              "  </tbody>\n",
              "</table>\n",
              "</div>\n",
              "    <div class=\"colab-df-buttons\">\n",
              "\n",
              "  <div class=\"colab-df-container\">\n",
              "    <button class=\"colab-df-convert\" onclick=\"convertToInteractive('df-604e34ed-5e6c-4d83-99f7-bf99e51016cd')\"\n",
              "            title=\"Convert this dataframe to an interactive table.\"\n",
              "            style=\"display:none;\">\n",
              "\n",
              "  <svg xmlns=\"http://www.w3.org/2000/svg\" height=\"24px\" viewBox=\"0 -960 960 960\">\n",
              "    <path d=\"M120-120v-720h720v720H120Zm60-500h600v-160H180v160Zm220 220h160v-160H400v160Zm0 220h160v-160H400v160ZM180-400h160v-160H180v160Zm440 0h160v-160H620v160ZM180-180h160v-160H180v160Zm440 0h160v-160H620v160Z\"/>\n",
              "  </svg>\n",
              "    </button>\n",
              "\n",
              "  <style>\n",
              "    .colab-df-container {\n",
              "      display:flex;\n",
              "      gap: 12px;\n",
              "    }\n",
              "\n",
              "    .colab-df-convert {\n",
              "      background-color: #E8F0FE;\n",
              "      border: none;\n",
              "      border-radius: 50%;\n",
              "      cursor: pointer;\n",
              "      display: none;\n",
              "      fill: #1967D2;\n",
              "      height: 32px;\n",
              "      padding: 0 0 0 0;\n",
              "      width: 32px;\n",
              "    }\n",
              "\n",
              "    .colab-df-convert:hover {\n",
              "      background-color: #E2EBFA;\n",
              "      box-shadow: 0px 1px 2px rgba(60, 64, 67, 0.3), 0px 1px 3px 1px rgba(60, 64, 67, 0.15);\n",
              "      fill: #174EA6;\n",
              "    }\n",
              "\n",
              "    .colab-df-buttons div {\n",
              "      margin-bottom: 4px;\n",
              "    }\n",
              "\n",
              "    [theme=dark] .colab-df-convert {\n",
              "      background-color: #3B4455;\n",
              "      fill: #D2E3FC;\n",
              "    }\n",
              "\n",
              "    [theme=dark] .colab-df-convert:hover {\n",
              "      background-color: #434B5C;\n",
              "      box-shadow: 0px 1px 3px 1px rgba(0, 0, 0, 0.15);\n",
              "      filter: drop-shadow(0px 1px 2px rgba(0, 0, 0, 0.3));\n",
              "      fill: #FFFFFF;\n",
              "    }\n",
              "  </style>\n",
              "\n",
              "    <script>\n",
              "      const buttonEl =\n",
              "        document.querySelector('#df-604e34ed-5e6c-4d83-99f7-bf99e51016cd button.colab-df-convert');\n",
              "      buttonEl.style.display =\n",
              "        google.colab.kernel.accessAllowed ? 'block' : 'none';\n",
              "\n",
              "      async function convertToInteractive(key) {\n",
              "        const element = document.querySelector('#df-604e34ed-5e6c-4d83-99f7-bf99e51016cd');\n",
              "        const dataTable =\n",
              "          await google.colab.kernel.invokeFunction('convertToInteractive',\n",
              "                                                    [key], {});\n",
              "        if (!dataTable) return;\n",
              "\n",
              "        const docLinkHtml = 'Like what you see? Visit the ' +\n",
              "          '<a target=\"_blank\" href=https://colab.research.google.com/notebooks/data_table.ipynb>data table notebook</a>'\n",
              "          + ' to learn more about interactive tables.';\n",
              "        element.innerHTML = '';\n",
              "        dataTable['output_type'] = 'display_data';\n",
              "        await google.colab.output.renderOutput(dataTable, element);\n",
              "        const docLink = document.createElement('div');\n",
              "        docLink.innerHTML = docLinkHtml;\n",
              "        element.appendChild(docLink);\n",
              "      }\n",
              "    </script>\n",
              "  </div>\n",
              "\n",
              "\n",
              "<div id=\"df-5845f322-eef6-42a5-9ab7-4670329ea5e3\">\n",
              "  <button class=\"colab-df-quickchart\" onclick=\"quickchart('df-5845f322-eef6-42a5-9ab7-4670329ea5e3')\"\n",
              "            title=\"Suggest charts\"\n",
              "            style=\"display:none;\">\n",
              "\n",
              "<svg xmlns=\"http://www.w3.org/2000/svg\" height=\"24px\"viewBox=\"0 0 24 24\"\n",
              "     width=\"24px\">\n",
              "    <g>\n",
              "        <path d=\"M19 3H5c-1.1 0-2 .9-2 2v14c0 1.1.9 2 2 2h14c1.1 0 2-.9 2-2V5c0-1.1-.9-2-2-2zM9 17H7v-7h2v7zm4 0h-2V7h2v10zm4 0h-2v-4h2v4z\"/>\n",
              "    </g>\n",
              "</svg>\n",
              "  </button>\n",
              "\n",
              "<style>\n",
              "  .colab-df-quickchart {\n",
              "      --bg-color: #E8F0FE;\n",
              "      --fill-color: #1967D2;\n",
              "      --hover-bg-color: #E2EBFA;\n",
              "      --hover-fill-color: #174EA6;\n",
              "      --disabled-fill-color: #AAA;\n",
              "      --disabled-bg-color: #DDD;\n",
              "  }\n",
              "\n",
              "  [theme=dark] .colab-df-quickchart {\n",
              "      --bg-color: #3B4455;\n",
              "      --fill-color: #D2E3FC;\n",
              "      --hover-bg-color: #434B5C;\n",
              "      --hover-fill-color: #FFFFFF;\n",
              "      --disabled-bg-color: #3B4455;\n",
              "      --disabled-fill-color: #666;\n",
              "  }\n",
              "\n",
              "  .colab-df-quickchart {\n",
              "    background-color: var(--bg-color);\n",
              "    border: none;\n",
              "    border-radius: 50%;\n",
              "    cursor: pointer;\n",
              "    display: none;\n",
              "    fill: var(--fill-color);\n",
              "    height: 32px;\n",
              "    padding: 0;\n",
              "    width: 32px;\n",
              "  }\n",
              "\n",
              "  .colab-df-quickchart:hover {\n",
              "    background-color: var(--hover-bg-color);\n",
              "    box-shadow: 0 1px 2px rgba(60, 64, 67, 0.3), 0 1px 3px 1px rgba(60, 64, 67, 0.15);\n",
              "    fill: var(--button-hover-fill-color);\n",
              "  }\n",
              "\n",
              "  .colab-df-quickchart-complete:disabled,\n",
              "  .colab-df-quickchart-complete:disabled:hover {\n",
              "    background-color: var(--disabled-bg-color);\n",
              "    fill: var(--disabled-fill-color);\n",
              "    box-shadow: none;\n",
              "  }\n",
              "\n",
              "  .colab-df-spinner {\n",
              "    border: 2px solid var(--fill-color);\n",
              "    border-color: transparent;\n",
              "    border-bottom-color: var(--fill-color);\n",
              "    animation:\n",
              "      spin 1s steps(1) infinite;\n",
              "  }\n",
              "\n",
              "  @keyframes spin {\n",
              "    0% {\n",
              "      border-color: transparent;\n",
              "      border-bottom-color: var(--fill-color);\n",
              "      border-left-color: var(--fill-color);\n",
              "    }\n",
              "    20% {\n",
              "      border-color: transparent;\n",
              "      border-left-color: var(--fill-color);\n",
              "      border-top-color: var(--fill-color);\n",
              "    }\n",
              "    30% {\n",
              "      border-color: transparent;\n",
              "      border-left-color: var(--fill-color);\n",
              "      border-top-color: var(--fill-color);\n",
              "      border-right-color: var(--fill-color);\n",
              "    }\n",
              "    40% {\n",
              "      border-color: transparent;\n",
              "      border-right-color: var(--fill-color);\n",
              "      border-top-color: var(--fill-color);\n",
              "    }\n",
              "    60% {\n",
              "      border-color: transparent;\n",
              "      border-right-color: var(--fill-color);\n",
              "    }\n",
              "    80% {\n",
              "      border-color: transparent;\n",
              "      border-right-color: var(--fill-color);\n",
              "      border-bottom-color: var(--fill-color);\n",
              "    }\n",
              "    90% {\n",
              "      border-color: transparent;\n",
              "      border-bottom-color: var(--fill-color);\n",
              "    }\n",
              "  }\n",
              "</style>\n",
              "\n",
              "  <script>\n",
              "    async function quickchart(key) {\n",
              "      const quickchartButtonEl =\n",
              "        document.querySelector('#' + key + ' button');\n",
              "      quickchartButtonEl.disabled = true;  // To prevent multiple clicks.\n",
              "      quickchartButtonEl.classList.add('colab-df-spinner');\n",
              "      try {\n",
              "        const charts = await google.colab.kernel.invokeFunction(\n",
              "            'suggestCharts', [key], {});\n",
              "      } catch (error) {\n",
              "        console.error('Error during call to suggestCharts:', error);\n",
              "      }\n",
              "      quickchartButtonEl.classList.remove('colab-df-spinner');\n",
              "      quickchartButtonEl.classList.add('colab-df-quickchart-complete');\n",
              "    }\n",
              "    (() => {\n",
              "      let quickchartButtonEl =\n",
              "        document.querySelector('#df-5845f322-eef6-42a5-9ab7-4670329ea5e3 button');\n",
              "      quickchartButtonEl.style.display =\n",
              "        google.colab.kernel.accessAllowed ? 'block' : 'none';\n",
              "    })();\n",
              "  </script>\n",
              "</div>\n",
              "\n",
              "    </div>\n",
              "  </div>\n"
            ],
            "application/vnd.google.colaboratory.intrinsic+json": {
              "type": "dataframe",
              "summary": "{\n  \"name\": \"data_profiling(X_test)\",\n  \"rows\": 20,\n  \"fields\": [\n    {\n      \"column\": \"column\",\n      \"properties\": {\n        \"dtype\": \"number\",\n        \"std\": 15,\n        \"min\": 1,\n        \"max\": 51,\n        \"num_unique_values\": 20,\n        \"samples\": [\n          1,\n          48,\n          22\n        ],\n        \"semantic_type\": \"\",\n        \"description\": \"\"\n      }\n    },\n    {\n      \"column\": \"dtypes\",\n      \"properties\": {\n        \"dtype\": \"category\",\n        \"num_unique_values\": 1,\n        \"samples\": [\n          \"float64\"\n        ],\n        \"semantic_type\": \"\",\n        \"description\": \"\"\n      }\n    },\n    {\n      \"column\": \"nunique\",\n      \"properties\": {\n        \"dtype\": \"number\",\n        \"std\": 1769,\n        \"min\": 9,\n        \"max\": 6283,\n        \"num_unique_values\": 19,\n        \"samples\": [\n          32\n        ],\n        \"semantic_type\": \"\",\n        \"description\": \"\"\n      }\n    },\n    {\n      \"column\": \"null\",\n      \"properties\": {\n        \"dtype\": \"number\",\n        \"std\": 0,\n        \"min\": 0,\n        \"max\": 0,\n        \"num_unique_values\": 1,\n        \"samples\": [\n          0\n        ],\n        \"semantic_type\": \"\",\n        \"description\": \"\"\n      }\n    },\n    {\n      \"column\": \"duplicates\",\n      \"properties\": {\n        \"dtype\": \"number\",\n        \"std\": 1769,\n        \"min\": 5437,\n        \"max\": 11711,\n        \"num_unique_values\": 19,\n        \"samples\": [\n          11688\n        ],\n        \"semantic_type\": \"\",\n        \"description\": \"\"\n      }\n    }\n  ]\n}"
            }
          },
          "metadata": {},
          "execution_count": 21
        }
      ]
    },
    {
      "cell_type": "markdown",
      "source": [
        "# Hyperparameter Tunning"
      ],
      "metadata": {
        "id": "H_dIzE0MbZ1I"
      }
    },
    {
      "cell_type": "code",
      "source": [
        "from tensorflow.keras.models import Sequential\n",
        "from tensorflow.keras.layers import Dense,ReLU,Dropout"
      ],
      "metadata": {
        "id": "ufjay359QUaI"
      },
      "execution_count": 22,
      "outputs": []
    },
    {
      "cell_type": "code",
      "source": [
        "pip install keras-tuner"
      ],
      "metadata": {
        "colab": {
          "base_uri": "https://localhost:8080/"
        },
        "id": "laFRNe5L0Mas",
        "outputId": "07a7dd5e-b05d-40be-ffa4-48855dfe9573"
      },
      "execution_count": 23,
      "outputs": [
        {
          "output_type": "stream",
          "name": "stdout",
          "text": [
            "Collecting keras-tuner\n",
            "  Downloading keras_tuner-1.4.7-py3-none-any.whl (129 kB)\n",
            "\u001b[2K     \u001b[90m━━━━━━━━━━━━━━━━━━━━━━━━━━━━━━━━━━━━━━━━\u001b[0m \u001b[32m129.1/129.1 kB\u001b[0m \u001b[31m1.2 MB/s\u001b[0m eta \u001b[36m0:00:00\u001b[0m\n",
            "\u001b[?25hRequirement already satisfied: keras in /usr/local/lib/python3.10/dist-packages (from keras-tuner) (2.15.0)\n",
            "Requirement already satisfied: packaging in /usr/local/lib/python3.10/dist-packages (from keras-tuner) (24.0)\n",
            "Requirement already satisfied: requests in /usr/local/lib/python3.10/dist-packages (from keras-tuner) (2.31.0)\n",
            "Collecting kt-legacy (from keras-tuner)\n",
            "  Downloading kt_legacy-1.0.5-py3-none-any.whl (9.6 kB)\n",
            "Requirement already satisfied: charset-normalizer<4,>=2 in /usr/local/lib/python3.10/dist-packages (from requests->keras-tuner) (3.3.2)\n",
            "Requirement already satisfied: idna<4,>=2.5 in /usr/local/lib/python3.10/dist-packages (from requests->keras-tuner) (3.7)\n",
            "Requirement already satisfied: urllib3<3,>=1.21.1 in /usr/local/lib/python3.10/dist-packages (from requests->keras-tuner) (2.0.7)\n",
            "Requirement already satisfied: certifi>=2017.4.17 in /usr/local/lib/python3.10/dist-packages (from requests->keras-tuner) (2024.2.2)\n",
            "Installing collected packages: kt-legacy, keras-tuner\n",
            "Successfully installed keras-tuner-1.4.7 kt-legacy-1.0.5\n"
          ]
        }
      ]
    },
    {
      "cell_type": "code",
      "source": [
        "import tensorflow as tf\n",
        "from tensorflow import keras\n",
        "from tensorflow.keras import layers\n",
        "from kerastuner.tuners import Hyperband\n",
        "from kerastuner import HyperParameters"
      ],
      "metadata": {
        "colab": {
          "base_uri": "https://localhost:8080/"
        },
        "id": "rPTUvBgB0PFU",
        "outputId": "8bebb315-f007-4820-da37-45313c7b7730"
      },
      "execution_count": 24,
      "outputs": [
        {
          "output_type": "stream",
          "name": "stderr",
          "text": [
            "<ipython-input-24-f855b38431e7>:4: DeprecationWarning: `import kerastuner` is deprecated, please use `import keras_tuner`.\n",
            "  from kerastuner.tuners import Hyperband\n"
          ]
        }
      ]
    },
    {
      "cell_type": "code",
      "source": [
        "def build_model(hp):\n",
        "    model = keras.Sequential()\n",
        "\n",
        "    # Add input layer\n",
        "    model.add(keras.layers.Dense(units=hp.Int('units_input', min_value=32, max_value=264, step=8),\n",
        "                                 activation='relu', input_shape=(X_train.shape[1],)))\n",
        "\n",
        "    # Add hidden layers\n",
        "    for i in range(hp.Int('num_layers', min_value=1, max_value=5)):\n",
        "        model.add(keras.layers.Dense(units=hp.Int(f'units_{i}', min_value=32, max_value=264, step=8),\n",
        "                                     activation='relu'))\n",
        "\n",
        "    # Add output layer\n",
        "    model.add(keras.layers.Dense(1, activation='sigmoid'))\n",
        "\n",
        "    optimizer = hp.Choice('optimizer', values=['adam', 'rmsprop', 'sgd'])\n",
        "\n",
        "    model.compile(optimizer=optimizer,\n",
        "                  loss='binary_crossentropy',\n",
        "                  metrics=['accuracy'])\n",
        "\n",
        "    return model\n"
      ],
      "metadata": {
        "id": "a3w4Sipj0SWc"
      },
      "execution_count": 25,
      "outputs": []
    },
    {
      "cell_type": "code",
      "source": [
        "tuner = Hyperband(build_model,\n",
        "                  objective='val_accuracy',\n",
        "                  max_epochs=5,\n",
        "                  directory='hyperband_tuning',\n",
        "                  project_name='ann_hyperparameter_tuning2')\n",
        "\n",
        "# Perform the hyperparameter search\n",
        "tuner.search(X_train, y_train, epochs=5, validation_data=(X_test, y_test))"
      ],
      "metadata": {
        "colab": {
          "base_uri": "https://localhost:8080/"
        },
        "id": "WyMUeUPk0VcK",
        "outputId": "4cac9592-840f-4294-8973-067c389a49cf"
      },
      "execution_count": 26,
      "outputs": [
        {
          "output_type": "stream",
          "name": "stdout",
          "text": [
            "Trial 10 Complete [00h 00m 44s]\n",
            "val_accuracy: 0.9997439980506897\n",
            "\n",
            "Best val_accuracy So Far: 0.9999146461486816\n",
            "Total elapsed time: 00h 04m 08s\n"
          ]
        }
      ]
    },
    {
      "cell_type": "code",
      "source": [
        "# Taking the best parameters from test 2\n",
        "\n",
        "best_hyperparameters = tuner.get_best_hyperparameters()[0]\n",
        "print(best_hyperparameters)"
      ],
      "metadata": {
        "colab": {
          "base_uri": "https://localhost:8080/"
        },
        "id": "CkDtyJIu0Z0E",
        "outputId": "233e5b53-a527-4dd4-8028-8c0a6fe70a2b"
      },
      "execution_count": 27,
      "outputs": [
        {
          "output_type": "stream",
          "name": "stdout",
          "text": [
            "<keras_tuner.src.engine.hyperparameters.hyperparameters.HyperParameters object at 0x7a039a58ad70>\n"
          ]
        }
      ]
    },
    {
      "cell_type": "code",
      "source": [
        "best_hyperparameters1 = tuner.get_best_hyperparameters()[0].values\n",
        "print(best_hyperparameters1)"
      ],
      "metadata": {
        "colab": {
          "base_uri": "https://localhost:8080/"
        },
        "id": "lDqYb6wYJNmE",
        "outputId": "bca65a7b-ef94-4465-86dd-be8e26decaff"
      },
      "execution_count": 28,
      "outputs": [
        {
          "output_type": "stream",
          "name": "stdout",
          "text": [
            "{'units_input': 152, 'num_layers': 4, 'units_0': 248, 'optimizer': 'adam', 'units_1': 32, 'units_2': 144, 'units_3': 200, 'tuner/epochs': 5, 'tuner/initial_epoch': 0, 'tuner/bracket': 0, 'tuner/round': 0}\n"
          ]
        }
      ]
    },
    {
      "cell_type": "code",
      "source": [
        "model = tuner.hypermodel.build(best_hyperparameters)"
      ],
      "metadata": {
        "id": "TeyuyK6w17l8"
      },
      "execution_count": 29,
      "outputs": []
    },
    {
      "cell_type": "markdown",
      "source": [
        "# Model Trainning and Prediction"
      ],
      "metadata": {
        "id": "CBo4OaYgbjJJ"
      }
    },
    {
      "cell_type": "code",
      "source": [
        "import keras\n",
        "\n",
        "callback = keras.callbacks.EarlyStopping(\n",
        "    monitor=\"val_loss\",\n",
        "    min_delta=0,\n",
        "    patience=5,\n",
        "    verbose=1,\n",
        "    mode=\"auto\",\n",
        "    baseline=None,\n",
        "    restore_best_weights=True\n",
        ")"
      ],
      "metadata": {
        "id": "ehyXeuW1Q08O"
      },
      "execution_count": 30,
      "outputs": []
    },
    {
      "cell_type": "code",
      "source": [
        "history = model.fit(X_train, y_train, validation_data=(X_test,y_test), epochs=50, callbacks=callback)"
      ],
      "metadata": {
        "colab": {
          "base_uri": "https://localhost:8080/"
        },
        "id": "1d5-Mj5rQ56y",
        "outputId": "73a73594-b1f4-45da-85bb-358948acd912"
      },
      "execution_count": 31,
      "outputs": [
        {
          "output_type": "stream",
          "name": "stdout",
          "text": [
            "Epoch 1/50\n",
            "1465/1465 [==============================] - 11s 7ms/step - loss: 0.0156 - accuracy: 0.9973 - val_loss: 0.0019 - val_accuracy: 0.9993\n",
            "Epoch 2/50\n",
            "1465/1465 [==============================] - 14s 10ms/step - loss: 0.0028 - accuracy: 0.9992 - val_loss: 0.0011 - val_accuracy: 0.9996\n",
            "Epoch 3/50\n",
            "1465/1465 [==============================] - 13s 9ms/step - loss: 0.0023 - accuracy: 0.9994 - val_loss: 0.0010 - val_accuracy: 0.9997\n",
            "Epoch 4/50\n",
            "1465/1465 [==============================] - 11s 8ms/step - loss: 0.0028 - accuracy: 0.9995 - val_loss: 9.2029e-04 - val_accuracy: 0.9995\n",
            "Epoch 5/50\n",
            "1465/1465 [==============================] - 11s 7ms/step - loss: 0.0011 - accuracy: 0.9998 - val_loss: 0.0019 - val_accuracy: 0.9997\n",
            "Epoch 6/50\n",
            "1465/1465 [==============================] - 7s 5ms/step - loss: 0.0017 - accuracy: 0.9997 - val_loss: 3.4708e-04 - val_accuracy: 0.9998\n",
            "Epoch 7/50\n",
            "1465/1465 [==============================] - 7s 4ms/step - loss: 0.0022 - accuracy: 0.9997 - val_loss: 4.1995e-04 - val_accuracy: 0.9997\n",
            "Epoch 8/50\n",
            "1465/1465 [==============================] - 7s 5ms/step - loss: 9.8694e-04 - accuracy: 0.9998 - val_loss: 3.3721e-04 - val_accuracy: 0.9998\n",
            "Epoch 9/50\n",
            "1465/1465 [==============================] - 6s 4ms/step - loss: 0.0025 - accuracy: 0.9997 - val_loss: 8.1056e-04 - val_accuracy: 0.9996\n",
            "Epoch 10/50\n",
            "1465/1465 [==============================] - 9s 6ms/step - loss: 0.0010 - accuracy: 0.9998 - val_loss: 4.6348e-04 - val_accuracy: 0.9998\n",
            "Epoch 11/50\n",
            "1465/1465 [==============================] - 5s 4ms/step - loss: 7.2113e-04 - accuracy: 0.9998 - val_loss: 4.9265e-04 - val_accuracy: 0.9997\n",
            "Epoch 12/50\n",
            "1465/1465 [==============================] - 6s 4ms/step - loss: 3.2793e-04 - accuracy: 0.9999 - val_loss: 5.2736e-04 - val_accuracy: 0.9997\n",
            "Epoch 13/50\n",
            "1456/1465 [============================>.] - ETA: 0s - loss: 0.0037 - accuracy: 0.9995Restoring model weights from the end of the best epoch: 8.\n",
            "1465/1465 [==============================] - 6s 4ms/step - loss: 0.0037 - accuracy: 0.9995 - val_loss: 0.0012 - val_accuracy: 0.9996\n",
            "Epoch 13: early stopping\n"
          ]
        }
      ]
    },
    {
      "cell_type": "code",
      "source": [
        "model.summary()"
      ],
      "metadata": {
        "colab": {
          "base_uri": "https://localhost:8080/"
        },
        "id": "m45AqsDx4o8E",
        "outputId": "3e96fb49-7a6d-478b-9c0a-70da54bb5533"
      },
      "execution_count": 32,
      "outputs": [
        {
          "output_type": "stream",
          "name": "stdout",
          "text": [
            "Model: \"sequential_1\"\n",
            "_________________________________________________________________\n",
            " Layer (type)                Output Shape              Param #   \n",
            "=================================================================\n",
            " dense_6 (Dense)             (None, 152)               3192      \n",
            "                                                                 \n",
            " dense_7 (Dense)             (None, 248)               37944     \n",
            "                                                                 \n",
            " dense_8 (Dense)             (None, 32)                7968      \n",
            "                                                                 \n",
            " dense_9 (Dense)             (None, 144)               4752      \n",
            "                                                                 \n",
            " dense_10 (Dense)            (None, 200)               29000     \n",
            "                                                                 \n",
            " dense_11 (Dense)            (None, 1)                 201       \n",
            "                                                                 \n",
            "=================================================================\n",
            "Total params: 83057 (324.44 KB)\n",
            "Trainable params: 83057 (324.44 KB)\n",
            "Non-trainable params: 0 (0.00 Byte)\n",
            "_________________________________________________________________\n"
          ]
        }
      ]
    },
    {
      "cell_type": "code",
      "source": [
        "max(history.history['val_accuracy'])"
      ],
      "metadata": {
        "colab": {
          "base_uri": "https://localhost:8080/"
        },
        "id": "Mr6B3qa74rVj",
        "outputId": "60163ada-d0f2-4cca-da41-23af817eb536"
      },
      "execution_count": null,
      "outputs": [
        {
          "output_type": "execute_result",
          "data": {
            "text/plain": [
              "0.9999146461486816"
            ]
          },
          "metadata": {},
          "execution_count": 118
        }
      ]
    },
    {
      "cell_type": "code",
      "source": [
        "plt.figure(figsize=(25,10))\n",
        "plt.plot(history.history['loss'], label ='Train')\n",
        "plt.plot(history.history['val_loss'], label ='Train')\n",
        "plt.legend()\n",
        "plt.title(\"Training and validation accuracy\")\n",
        "plt.xlabel('epoch')\n",
        "plt.show()"
      ],
      "metadata": {
        "colab": {
          "base_uri": "https://localhost:8080/",
          "height": 491
        },
        "id": "SKRtRh-EQ8gL",
        "outputId": "ce4bda5d-7126-4f8a-d24d-db0070cfd698"
      },
      "execution_count": 33,
      "outputs": [
        {
          "output_type": "display_data",
          "data": {
            "text/plain": [
              "<Figure size 2500x1000 with 1 Axes>"
            ],
            "image/png": "[encoded data removed]"
          },
          "metadata": {}
        }
      ]
    },
    {
      "cell_type": "code",
      "source": [
        "plt.figure(figsize=(25,10))\n",
        "plt.plot(history.history['accuracy'])\n",
        "plt.plot(history.history['val_accuracy'])\n",
        "plt.legend(['Training', 'Validation'])\n",
        "plt.title(\"Training and validation accuracy\")\n",
        "plt.xlabel('epoch')\n",
        "plt.show()"
      ],
      "metadata": {
        "colab": {
          "base_uri": "https://localhost:8080/",
          "height": 489
        },
        "id": "Qz939mHFRAso",
        "outputId": "973e8ab3-d9ac-4c49-c4dd-978fb5d588a6"
      },
      "execution_count": 34,
      "outputs": [
        {
          "output_type": "display_data",
          "data": {
            "text/plain": [
              "<Figure size 2500x1000 with 1 Axes>"
            ],
            "image/png": "[encoded data removed]"
          },
          "metadata": {}
        }
      ]
    },
    {
      "cell_type": "code",
      "source": [
        "results = model.evaluate(X_test, y_test)"
      ],
      "metadata": {
        "colab": {
          "base_uri": "https://localhost:8080/"
        },
        "id": "eWaAnnhD5srR",
        "outputId": "b48dfc7c-d359-4792-aa0c-8e08218a37b2"
      },
      "execution_count": 35,
      "outputs": [
        {
          "output_type": "stream",
          "name": "stdout",
          "text": [
            "367/367 [==============================] - 1s 2ms/step - loss: 3.3721e-04 - accuracy: 0.9998\n"
          ]
        }
      ]
    },
    {
      "source": [
        "# trained_model = model.history.model\n",
        "y_pred = model.predict(X_test)\n"
      ],
      "cell_type": "code",
      "metadata": {
        "id": "8UEcTn0gSQ4q",
        "colab": {
          "base_uri": "https://localhost:8080/"
        },
        "outputId": "e54a91a4-7abb-45f0-88e6-285e00e54c37"
      },
      "execution_count": 42,
      "outputs": [
        {
          "output_type": "stream",
          "name": "stdout",
          "text": [
            "367/367 [==============================] - 2s 6ms/step\n"
          ]
        }
      ]
    },
    {
      "cell_type": "code",
      "source": [
        "y_pred.shape"
      ],
      "metadata": {
        "colab": {
          "base_uri": "https://localhost:8080/"
        },
        "id": "yZR7AoG9vxbE",
        "outputId": "70f54fd6-242b-4e79-8daf-682b2e0db8f0"
      },
      "execution_count": null,
      "outputs": [
        {
          "output_type": "execute_result",
          "data": {
            "text/plain": [
              "(11720, 1)"
            ]
          },
          "metadata": {},
          "execution_count": 123
        }
      ]
    },
    {
      "cell_type": "code",
      "source": [
        "y_pred_labels = np.argmax(y_pred, axis=0)"
      ],
      "metadata": {
        "id": "CYaO4gCfNmDa"
      },
      "execution_count": 37,
      "outputs": []
    },
    {
      "cell_type": "code",
      "source": [
        "y_pred = y_pred.reshape(-1)"
      ],
      "metadata": {
        "id": "tyLwXoHdOJUj"
      },
      "execution_count": 38,
      "outputs": []
    },
    {
      "cell_type": "code",
      "source": [
        "y_test.shape"
      ],
      "metadata": {
        "colab": {
          "base_uri": "https://localhost:8080/"
        },
        "id": "p-C815c12cqG",
        "outputId": "c42fbf8d-a4d2-456c-8a46-a16c483e65ef"
      },
      "execution_count": null,
      "outputs": [
        {
          "output_type": "execute_result",
          "data": {
            "text/plain": [
              "(11720,)"
            ]
          },
          "metadata": {},
          "execution_count": 126
        }
      ]
    },
    {
      "cell_type": "code",
      "source": [
        "threshold = 0.5\n",
        "y_pred_binary = (y_pred >= threshold).astype(int).flatten()"
      ],
      "metadata": {
        "id": "_CipgbRB5FkL"
      },
      "execution_count": 43,
      "outputs": []
    },
    {
      "cell_type": "code",
      "source": [
        "y_pred_binary"
      ],
      "metadata": {
        "colab": {
          "base_uri": "https://localhost:8080/"
        },
        "id": "tR7pS3Gy5blw",
        "outputId": "5a213d55-f510-4c7c-a72e-7e65ffc10063"
      },
      "execution_count": 44,
      "outputs": [
        {
          "output_type": "execute_result",
          "data": {
            "text/plain": [
              "array([0, 0, 1, ..., 0, 0, 1])"
            ]
          },
          "metadata": {},
          "execution_count": 44
        }
      ]
    },
    {
      "cell_type": "code",
      "source": [
        "conf_matrix = confusion_matrix(y_test, y_pred_binary)\n",
        "\n",
        "conf_matrix"
      ],
      "metadata": {
        "colab": {
          "base_uri": "https://localhost:8080/"
        },
        "id": "IjifJ4zx6AHC",
        "outputId": "61799a2a-19fa-4786-edae-0b7b481a8f30"
      },
      "execution_count": 47,
      "outputs": [
        {
          "output_type": "execute_result",
          "data": {
            "text/plain": [
              "array([[5832,    2],\n",
              "       [   0, 5886]])"
            ]
          },
          "metadata": {},
          "execution_count": 47
        }
      ]
    },
    {
      "cell_type": "code",
      "source": [
        "plt.figure(figsize=(10, 8))\n",
        "sns.heatmap(conf_matrix, annot=True, fmt=\"d\", cmap=\"Blues\")\n",
        "plt.title('Confusion Matrix Of Ann')\n",
        "plt.ylabel('True label')\n",
        "plt.xlabel('Predicted label')\n",
        "plt.show()"
      ],
      "metadata": {
        "colab": {
          "base_uri": "https://localhost:8080/",
          "height": 718
        },
        "id": "V5dN1AjK66QK",
        "outputId": "7465ec96-4cd9-4592-ebf9-a1e1a57c1ec7"
      },
      "execution_count": 48,
      "outputs": [
        {
          "output_type": "display_data",
          "data": {
            "text/plain": [
              "<Figure size 1000x800 with 2 Axes>"
            ],
            "image/png": "[encoded data removed]"
          },
          "metadata": {}
        }
      ]
    },
    {
      "cell_type": "code",
      "source": [
        "class_report = classification_report(y_test, y_pred_binary, output_dict=True)\n",
        "\n",
        "print(class_report)"
      ],
      "metadata": {
        "colab": {
          "base_uri": "https://localhost:8080/"
        },
        "id": "TkoENufn7G8m",
        "outputId": "d7111b1f-d52b-4242-b762-5e05d1a34f59"
      },
      "execution_count": 49,
      "outputs": [
        {
          "output_type": "stream",
          "name": "stdout",
          "text": [
            "{'0': {'precision': 1.0, 'recall': 0.9996571820363387, 'f1-score': 0.9998285616320932, 'support': 5834}, '1': {'precision': 0.9996603260869565, 'recall': 1.0, 'f1-score': 0.9998301341939868, 'support': 5886}, 'accuracy': 0.9998293515358362, 'macro avg': {'precision': 0.9998301630434783, 'recall': 0.9998285910181693, 'f1-score': 0.99982934791304, 'support': 11720}, 'weighted avg': {'precision': 0.9998294095006678, 'recall': 0.9998293515358362, 'f1-score': 0.9998293514016585, 'support': 11720}}\n"
          ]
        }
      ]
    },
    {
      "cell_type": "code",
      "source": [
        "from google.colab import drive\n",
        "drive.mount('/content/drive')\n"
      ],
      "metadata": {
        "colab": {
          "base_uri": "https://localhost:8080/"
        },
        "id": "UaMocCjxE0LP",
        "outputId": "996b8c7f-d1ea-49e6-cd89-8447f39c03d7"
      },
      "execution_count": null,
      "outputs": [
        {
          "output_type": "stream",
          "name": "stdout",
          "text": [
            "Mounted at /content/drive\n"
          ]
        }
      ]
    },
    {
      "cell_type": "code",
      "source": [
        "model_path = '/content/drive/My Drive/fileless_model.h5'\n",
        "\n",
        "# Save the entire model to Google Drive\n",
        "model.save(model_path)\n",
        "\n",
        "print(f'Model saved to {model_path}')"
      ],
      "metadata": {
        "colab": {
          "base_uri": "https://localhost:8080/"
        },
        "id": "6IBNwGrSE5fd",
        "outputId": "b9f262e1-75d0-4b35-89ff-0dbdf26995af"
      },
      "execution_count": null,
      "outputs": [
        {
          "output_type": "stream",
          "name": "stdout",
          "text": [
            "Model saved to /content/drive/My Drive/fileless_model.h5\n"
          ]
        }
      ]
    },
    {
      "cell_type": "code",
      "source": [
        "model_path = r'E:\\cyber security using ml\\fileless_model.h5'\n",
        "\n",
        "# Save the model\n",
        "model.save(model_path)"
      ],
      "metadata": {
        "colab": {
          "base_uri": "https://localhost:8080/"
        },
        "id": "RjfFaufNAi4e",
        "outputId": "21162c54-1010-4235-a7c7-d331c1e147a3"
      },
      "execution_count": null,
      "outputs": [
        {
          "output_type": "stream",
          "name": "stderr",
          "text": [
            "/usr/local/lib/python3.10/dist-packages/keras/src/engine/training.py:3103: UserWarning: You are saving your model as an HDF5 file via `model.save()`. This file format is considered legacy. We recommend using instead the native Keras format, e.g. `model.save('my_model.keras')`.\n",
            "  saving_api.save_model(\n"
          ]
        }
      ]
    },
    {
      "cell_type": "markdown",
      "source": [
        "# Creating UI"
      ],
      "metadata": {
        "id": "uO1hrWiLcTPH"
      }
    },
    {
      "cell_type": "code",
      "source": [
        "pip install gradio"
      ],
      "metadata": {
        "colab": {
          "base_uri": "https://localhost:8080/"
        },
        "collapsed": true,
        "id": "1dyUWfGDNcWc",
        "outputId": "3abfa4cc-df97-4a44-c2aa-8d34f0639170"
      },
      "execution_count": 50,
      "outputs": [
        {
          "output_type": "stream",
          "name": "stdout",
          "text": [
            "Collecting gradio\n",
            "  Downloading gradio-4.31.4-py3-none-any.whl (12.3 MB)\n",
            "\u001b[2K     \u001b[90m━━━━━━━━━━━━━━━━━━━━━━━━━━━━━━━━━━━━━━━━\u001b[0m \u001b[32m12.3/12.3 MB\u001b[0m \u001b[31m52.1 MB/s\u001b[0m eta \u001b[36m0:00:00\u001b[0m\n",
            "\u001b[?25hCollecting aiofiles<24.0,>=22.0 (from gradio)\n",
            "  Downloading aiofiles-23.2.1-py3-none-any.whl (15 kB)\n",
            "Requirement already satisfied: altair<6.0,>=4.2.0 in /usr/local/lib/python3.10/dist-packages (from gradio) (4.2.2)\n",
            "Collecting fastapi (from gradio)\n",
            "  Downloading fastapi-0.111.0-py3-none-any.whl (91 kB)\n",
            "\u001b[2K     \u001b[90m━━━━━━━━━━━━━━━━━━━━━━━━━━━━━━━━━━━━━━━━\u001b[0m \u001b[32m92.0/92.0 kB\u001b[0m \u001b[31m8.4 MB/s\u001b[0m eta \u001b[36m0:00:00\u001b[0m\n",
            "\u001b[?25hCollecting ffmpy (from gradio)\n",
            "  Downloading ffmpy-0.3.2.tar.gz (5.5 kB)\n",
            "  Preparing metadata (setup.py) ... \u001b[?25l\u001b[?25hdone\n",
            "Collecting gradio-client==0.16.4 (from gradio)\n",
            "  Downloading gradio_client-0.16.4-py3-none-any.whl (315 kB)\n",
            "\u001b[2K     \u001b[90m━━━━━━━━━━━━━━━━━━━━━━━━━━━━━━━━━━━━━━━━\u001b[0m \u001b[32m315.9/315.9 kB\u001b[0m \u001b[31m30.0 MB/s\u001b[0m eta \u001b[36m0:00:00\u001b[0m\n",
            "\u001b[?25hCollecting httpx>=0.24.1 (from gradio)\n",
            "  Downloading httpx-0.27.0-py3-none-any.whl (75 kB)\n",
            "\u001b[2K     \u001b[90m━━━━━━━━━━━━━━━━━━━━━━━━━━━━━━━━━━━━━━━━\u001b[0m \u001b[32m75.6/75.6 kB\u001b[0m \u001b[31m8.6 MB/s\u001b[0m eta \u001b[36m0:00:00\u001b[0m\n",
            "\u001b[?25hRequirement already satisfied: huggingface-hub>=0.19.3 in /usr/local/lib/python3.10/dist-packages (from gradio) (0.20.3)\n",
            "Requirement already satisfied: importlib-resources<7.0,>=1.3 in /usr/local/lib/python3.10/dist-packages (from gradio) (6.4.0)\n",
            "Requirement already satisfied: jinja2<4.0 in /usr/local/lib/python3.10/dist-packages (from gradio) (3.1.4)\n",
            "Requirement already satisfied: markupsafe~=2.0 in /usr/local/lib/python3.10/dist-packages (from gradio) (2.1.5)\n",
            "Requirement already satisfied: matplotlib~=3.0 in /usr/local/lib/python3.10/dist-packages (from gradio) (3.7.1)\n",
            "Requirement already satisfied: numpy~=1.0 in /usr/local/lib/python3.10/dist-packages (from gradio) (1.25.2)\n",
            "Collecting orjson~=3.0 (from gradio)\n",
            "  Downloading orjson-3.10.3-cp310-cp310-manylinux_2_17_x86_64.manylinux2014_x86_64.whl (142 kB)\n",
            "\u001b[2K     \u001b[90m━━━━━━━━━━━━━━━━━━━━━━━━━━━━━━━━━━━━━━━━\u001b[0m \u001b[32m142.5/142.5 kB\u001b[0m \u001b[31m16.3 MB/s\u001b[0m eta \u001b[36m0:00:00\u001b[0m\n",
            "\u001b[?25hRequirement already satisfied: packaging in /usr/local/lib/python3.10/dist-packages (from gradio) (24.0)\n",
            "Requirement already satisfied: pandas<3.0,>=1.0 in /usr/local/lib/python3.10/dist-packages (from gradio) (2.0.3)\n",
            "Requirement already satisfied: pillow<11.0,>=8.0 in /usr/local/lib/python3.10/dist-packages (from gradio) (9.4.0)\n",
            "Requirement already satisfied: pydantic>=2.0 in /usr/local/lib/python3.10/dist-packages (from gradio) (2.7.1)\n",
            "Collecting pydub (from gradio)\n",
            "  Downloading pydub-0.25.1-py2.py3-none-any.whl (32 kB)\n",
            "Collecting python-multipart>=0.0.9 (from gradio)\n",
            "  Downloading python_multipart-0.0.9-py3-none-any.whl (22 kB)\n",
            "Requirement already satisfied: pyyaml<7.0,>=5.0 in /usr/local/lib/python3.10/dist-packages (from gradio) (6.0.1)\n",
            "Collecting ruff>=0.2.2 (from gradio)\n",
            "  Downloading ruff-0.4.4-py3-none-manylinux_2_17_x86_64.manylinux2014_x86_64.whl (8.7 MB)\n",
            "\u001b[2K     \u001b[90m━━━━━━━━━━━━━━━━━━━━━━━━━━━━━━━━━━━━━━━━\u001b[0m \u001b[32m8.7/8.7 MB\u001b[0m \u001b[31m57.1 MB/s\u001b[0m eta \u001b[36m0:00:00\u001b[0m\n",
            "\u001b[?25hCollecting semantic-version~=2.0 (from gradio)\n",
            "  Downloading semantic_version-2.10.0-py2.py3-none-any.whl (15 kB)\n",
            "Collecting tomlkit==0.12.0 (from gradio)\n",
            "  Downloading tomlkit-0.12.0-py3-none-any.whl (37 kB)\n",
            "Collecting typer<1.0,>=0.12 (from gradio)\n",
            "  Downloading typer-0.12.3-py3-none-any.whl (47 kB)\n",
            "\u001b[2K     \u001b[90m━━━━━━━━━━━━━━━━━━━━━━━━━━━━━━━━━━━━━━━━\u001b[0m \u001b[32m47.2/47.2 kB\u001b[0m \u001b[31m4.5 MB/s\u001b[0m eta \u001b[36m0:00:00\u001b[0m\n",
            "\u001b[?25hRequirement already satisfied: typing-extensions~=4.0 in /usr/local/lib/python3.10/dist-packages (from gradio) (4.11.0)\n",
            "Requirement already satisfied: urllib3~=2.0 in /usr/local/lib/python3.10/dist-packages (from gradio) (2.0.7)\n",
            "Collecting uvicorn>=0.14.0 (from gradio)\n",
            "  Downloading uvicorn-0.29.0-py3-none-any.whl (60 kB)\n",
            "\u001b[2K     \u001b[90m━━━━━━━━━━━━━━━━━━━━━━━━━━━━━━━━━━━━━━━━\u001b[0m \u001b[32m60.8/60.8 kB\u001b[0m \u001b[31m6.5 MB/s\u001b[0m eta \u001b[36m0:00:00\u001b[0m\n",
            "\u001b[?25hRequirement already satisfied: fsspec in /usr/local/lib/python3.10/dist-packages (from gradio-client==0.16.4->gradio) (2023.6.0)\n",
            "Collecting websockets<12.0,>=10.0 (from gradio-client==0.16.4->gradio)\n",
            "  Downloading websockets-11.0.3-cp310-cp310-manylinux_2_5_x86_64.manylinux1_x86_64.manylinux_2_17_x86_64.manylinux2014_x86_64.whl (129 kB)\n",
            "\u001b[2K     \u001b[90m━━━━━━━━━━━━━━━━━━━━━━━━━━━━━━━━━━━━━━━━\u001b[0m \u001b[32m129.9/129.9 kB\u001b[0m \u001b[31m14.0 MB/s\u001b[0m eta \u001b[36m0:00:00\u001b[0m\n",
            "\u001b[?25hRequirement already satisfied: entrypoints in /usr/local/lib/python3.10/dist-packages (from altair<6.0,>=4.2.0->gradio) (0.4)\n",
            "Requirement already satisfied: jsonschema>=3.0 in /usr/local/lib/python3.10/dist-packages (from altair<6.0,>=4.2.0->gradio) (4.19.2)\n",
            "Requirement already satisfied: toolz in /usr/local/lib/python3.10/dist-packages (from altair<6.0,>=4.2.0->gradio) (0.12.1)\n",
            "Requirement already satisfied: anyio in /usr/local/lib/python3.10/dist-packages (from httpx>=0.24.1->gradio) (3.7.1)\n",
            "Requirement already satisfied: certifi in /usr/local/lib/python3.10/dist-packages (from httpx>=0.24.1->gradio) (2024.2.2)\n",
            "Collecting httpcore==1.* (from httpx>=0.24.1->gradio)\n",
            "  Downloading httpcore-1.0.5-py3-none-any.whl (77 kB)\n",
            "\u001b[2K     \u001b[90m━━━━━━━━━━━━━━━━━━━━━━━━━━━━━━━━━━━━━━━━\u001b[0m \u001b[32m77.9/77.9 kB\u001b[0m \u001b[31m9.3 MB/s\u001b[0m eta \u001b[36m0:00:00\u001b[0m\n",
            "\u001b[?25hRequirement already satisfied: idna in /usr/local/lib/python3.10/dist-packages (from httpx>=0.24.1->gradio) (3.7)\n",
            "Requirement already satisfied: sniffio in /usr/local/lib/python3.10/dist-packages (from httpx>=0.24.1->gradio) (1.3.1)\n",
            "Collecting h11<0.15,>=0.13 (from httpcore==1.*->httpx>=0.24.1->gradio)\n",
            "  Downloading h11-0.14.0-py3-none-any.whl (58 kB)\n",
            "\u001b[2K     \u001b[90m━━━━━━━━━━━━━━━━━━━━━━━━━━━━━━━━━━━━━━━━\u001b[0m \u001b[32m58.3/58.3 kB\u001b[0m \u001b[31m5.8 MB/s\u001b[0m eta \u001b[36m0:00:00\u001b[0m\n",
            "\u001b[?25hRequirement already satisfied: filelock in /usr/local/lib/python3.10/dist-packages (from huggingface-hub>=0.19.3->gradio) (3.14.0)\n",
            "Requirement already satisfied: requests in /usr/local/lib/python3.10/dist-packages (from huggingface-hub>=0.19.3->gradio) (2.31.0)\n",
            "Requirement already satisfied: tqdm>=4.42.1 in /usr/local/lib/python3.10/dist-packages (from huggingface-hub>=0.19.3->gradio) (4.66.4)\n",
            "Requirement already satisfied: contourpy>=1.0.1 in /usr/local/lib/python3.10/dist-packages (from matplotlib~=3.0->gradio) (1.2.1)\n",
            "Requirement already satisfied: cycler>=0.10 in /usr/local/lib/python3.10/dist-packages (from matplotlib~=3.0->gradio) (0.12.1)\n",
            "Requirement already satisfied: fonttools>=4.22.0 in /usr/local/lib/python3.10/dist-packages (from matplotlib~=3.0->gradio) (4.51.0)\n",
            "Requirement already satisfied: kiwisolver>=1.0.1 in /usr/local/lib/python3.10/dist-packages (from matplotlib~=3.0->gradio) (1.4.5)\n",
            "Requirement already satisfied: pyparsing>=2.3.1 in /usr/local/lib/python3.10/dist-packages (from matplotlib~=3.0->gradio) (3.1.2)\n",
            "Requirement already satisfied: python-dateutil>=2.7 in /usr/local/lib/python3.10/dist-packages (from matplotlib~=3.0->gradio) (2.8.2)\n",
            "Requirement already satisfied: pytz>=2020.1 in /usr/local/lib/python3.10/dist-packages (from pandas<3.0,>=1.0->gradio) (2023.4)\n",
            "Requirement already satisfied: tzdata>=2022.1 in /usr/local/lib/python3.10/dist-packages (from pandas<3.0,>=1.0->gradio) (2024.1)\n",
            "Requirement already satisfied: annotated-types>=0.4.0 in /usr/local/lib/python3.10/dist-packages (from pydantic>=2.0->gradio) (0.6.0)\n",
            "Requirement already satisfied: pydantic-core==2.18.2 in /usr/local/lib/python3.10/dist-packages (from pydantic>=2.0->gradio) (2.18.2)\n",
            "Requirement already satisfied: click>=8.0.0 in /usr/local/lib/python3.10/dist-packages (from typer<1.0,>=0.12->gradio) (8.1.7)\n",
            "Collecting shellingham>=1.3.0 (from typer<1.0,>=0.12->gradio)\n",
            "  Downloading shellingham-1.5.4-py2.py3-none-any.whl (9.8 kB)\n",
            "Requirement already satisfied: rich>=10.11.0 in /usr/local/lib/python3.10/dist-packages (from typer<1.0,>=0.12->gradio) (13.7.1)\n",
            "Collecting starlette<0.38.0,>=0.37.2 (from fastapi->gradio)\n",
            "  Downloading starlette-0.37.2-py3-none-any.whl (71 kB)\n",
            "\u001b[2K     \u001b[90m━━━━━━━━━━━━━━━━━━━━━━━━━━━━━━━━━━━━━━━━\u001b[0m \u001b[32m71.9/71.9 kB\u001b[0m \u001b[31m8.6 MB/s\u001b[0m eta \u001b[36m0:00:00\u001b[0m\n",
            "\u001b[?25hCollecting fastapi-cli>=0.0.2 (from fastapi->gradio)\n",
            "  Downloading fastapi_cli-0.0.4-py3-none-any.whl (9.5 kB)\n",
            "Collecting ujson!=4.0.2,!=4.1.0,!=4.2.0,!=4.3.0,!=5.0.0,!=5.1.0,>=4.0.1 (from fastapi->gradio)\n",
            "  Downloading ujson-5.10.0-cp310-cp310-manylinux_2_17_x86_64.manylinux2014_x86_64.whl (53 kB)\n",
            "\u001b[2K     \u001b[90m━━━━━━━━━━━━━━━━━━━━━━━━━━━━━━━━━━━━━━━━\u001b[0m \u001b[32m53.6/53.6 kB\u001b[0m \u001b[31m5.9 MB/s\u001b[0m eta \u001b[36m0:00:00\u001b[0m\n",
            "\u001b[?25hCollecting email_validator>=2.0.0 (from fastapi->gradio)\n",
            "  Downloading email_validator-2.1.1-py3-none-any.whl (30 kB)\n",
            "Collecting dnspython>=2.0.0 (from email_validator>=2.0.0->fastapi->gradio)\n",
            "  Downloading dnspython-2.6.1-py3-none-any.whl (307 kB)\n",
            "\u001b[2K     \u001b[90m━━━━━━━━━━━━━━━━━━━━━━━━━━━━━━━━━━━━━━━━\u001b[0m \u001b[32m307.7/307.7 kB\u001b[0m \u001b[31m25.1 MB/s\u001b[0m eta \u001b[36m0:00:00\u001b[0m\n",
            "\u001b[?25hRequirement already satisfied: attrs>=22.2.0 in /usr/local/lib/python3.10/dist-packages (from jsonschema>=3.0->altair<6.0,>=4.2.0->gradio) (23.2.0)\n",
            "Requirement already satisfied: jsonschema-specifications>=2023.03.6 in /usr/local/lib/python3.10/dist-packages (from jsonschema>=3.0->altair<6.0,>=4.2.0->gradio) (2023.12.1)\n",
            "Requirement already satisfied: referencing>=0.28.4 in /usr/local/lib/python3.10/dist-packages (from jsonschema>=3.0->altair<6.0,>=4.2.0->gradio) (0.35.1)\n",
            "Requirement already satisfied: rpds-py>=0.7.1 in /usr/local/lib/python3.10/dist-packages (from jsonschema>=3.0->altair<6.0,>=4.2.0->gradio) (0.18.1)\n",
            "Requirement already satisfied: six>=1.5 in /usr/local/lib/python3.10/dist-packages (from python-dateutil>=2.7->matplotlib~=3.0->gradio) (1.16.0)\n",
            "Requirement already satisfied: markdown-it-py>=2.2.0 in /usr/local/lib/python3.10/dist-packages (from rich>=10.11.0->typer<1.0,>=0.12->gradio) (3.0.0)\n",
            "Requirement already satisfied: pygments<3.0.0,>=2.13.0 in /usr/local/lib/python3.10/dist-packages (from rich>=10.11.0->typer<1.0,>=0.12->gradio) (2.16.1)\n",
            "Requirement already satisfied: exceptiongroup in /usr/local/lib/python3.10/dist-packages (from anyio->httpx>=0.24.1->gradio) (1.2.1)\n",
            "Collecting httptools>=0.5.0 (from uvicorn>=0.14.0->gradio)\n",
            "  Downloading httptools-0.6.1-cp310-cp310-manylinux_2_5_x86_64.manylinux1_x86_64.manylinux_2_17_x86_64.manylinux2014_x86_64.whl (341 kB)\n",
            "\u001b[2K     \u001b[90m━━━━━━━━━━━━━━━━━━━━━━━━━━━━━━━━━━━━━━━━\u001b[0m \u001b[32m341.4/341.4 kB\u001b[0m \u001b[31m31.7 MB/s\u001b[0m eta \u001b[36m0:00:00\u001b[0m\n",
            "\u001b[?25hCollecting python-dotenv>=0.13 (from uvicorn>=0.14.0->gradio)\n",
            "  Downloading python_dotenv-1.0.1-py3-none-any.whl (19 kB)\n",
            "Collecting uvloop!=0.15.0,!=0.15.1,>=0.14.0 (from uvicorn>=0.14.0->gradio)\n",
            "  Downloading uvloop-0.19.0-cp310-cp310-manylinux_2_17_x86_64.manylinux2014_x86_64.whl (3.4 MB)\n",
            "\u001b[2K     \u001b[90m━━━━━━━━━━━━━━━━━━━━━━━━━━━━━━━━━━━━━━━━\u001b[0m \u001b[32m3.4/3.4 MB\u001b[0m \u001b[31m70.5 MB/s\u001b[0m eta \u001b[36m0:00:00\u001b[0m\n",
            "\u001b[?25hCollecting watchfiles>=0.13 (from uvicorn>=0.14.0->gradio)\n",
            "  Downloading watchfiles-0.21.0-cp310-cp310-manylinux_2_17_x86_64.manylinux2014_x86_64.whl (1.3 MB)\n",
            "\u001b[2K     \u001b[90m━━━━━━━━━━━━━━━━━━━━━━━━━━━━━━━━━━━━━━━━\u001b[0m \u001b[32m1.3/1.3 MB\u001b[0m \u001b[31m59.5 MB/s\u001b[0m eta \u001b[36m0:00:00\u001b[0m\n",
            "\u001b[?25hRequirement already satisfied: charset-normalizer<4,>=2 in /usr/local/lib/python3.10/dist-packages (from requests->huggingface-hub>=0.19.3->gradio) (3.3.2)\n",
            "Requirement already satisfied: mdurl~=0.1 in /usr/local/lib/python3.10/dist-packages (from markdown-it-py>=2.2.0->rich>=10.11.0->typer<1.0,>=0.12->gradio) (0.1.2)\n",
            "Building wheels for collected packages: ffmpy\n",
            "  Building wheel for ffmpy (setup.py) ... \u001b[?25l\u001b[?25hdone\n",
            "  Created wheel for ffmpy: filename=ffmpy-0.3.2-py3-none-any.whl size=5584 sha256=4d175552ec88ca0a7c41ef741d09d3747a45476a948fe1b294866d5b0d603e6e\n",
            "  Stored in directory: /root/.cache/pip/wheels/bd/65/9a/671fc6dcde07d4418df0c592f8df512b26d7a0029c2a23dd81\n",
            "Successfully built ffmpy\n",
            "Installing collected packages: pydub, ffmpy, websockets, uvloop, ujson, tomlkit, shellingham, semantic-version, ruff, python-multipart, python-dotenv, orjson, httptools, h11, dnspython, aiofiles, watchfiles, uvicorn, starlette, httpcore, email_validator, typer, httpx, gradio-client, fastapi-cli, fastapi, gradio\n",
            "  Attempting uninstall: typer\n",
            "    Found existing installation: typer 0.9.4\n",
            "    Uninstalling typer-0.9.4:\n",
            "      Successfully uninstalled typer-0.9.4\n",
            "\u001b[31mERROR: pip's dependency resolver does not currently take into account all the packages that are installed. This behaviour is the source of the following dependency conflicts.\n",
            "spacy 3.7.4 requires typer<0.10.0,>=0.3.0, but you have typer 0.12.3 which is incompatible.\n",
            "weasel 0.3.4 requires typer<0.10.0,>=0.3.0, but you have typer 0.12.3 which is incompatible.\u001b[0m\u001b[31m\n",
            "\u001b[0mSuccessfully installed aiofiles-23.2.1 dnspython-2.6.1 email_validator-2.1.1 fastapi-0.111.0 fastapi-cli-0.0.4 ffmpy-0.3.2 gradio-4.31.4 gradio-client-0.16.4 h11-0.14.0 httpcore-1.0.5 httptools-0.6.1 httpx-0.27.0 orjson-3.10.3 pydub-0.25.1 python-dotenv-1.0.1 python-multipart-0.0.9 ruff-0.4.4 semantic-version-2.10.0 shellingham-1.5.4 starlette-0.37.2 tomlkit-0.12.0 typer-0.12.3 ujson-5.10.0 uvicorn-0.29.0 uvloop-0.19.0 watchfiles-0.21.0 websockets-11.0.3\n"
          ]
        }
      ]
    },
    {
      "cell_type": "code",
      "source": [
        "import gradio as gr"
      ],
      "metadata": {
        "id": "_8CxmJX_NiL1"
      },
      "execution_count": 51,
      "outputs": []
    },
    {
      "cell_type": "code",
      "source": [
        "def predict_malicious(file):\n",
        "\n",
        "  data = pd.read_csv(file)\n",
        "\n",
        "  # Preprocess data using pre-trained transformers\n",
        "  sc, sel, X_train, X_test, y_train, y_test = preprocess_data(data)\n",
        "  input_features = data.iloc[:, :-1].values\n",
        "  input_features = sc.transform(input_features)\n",
        "  input_features = sel.transform(input_features)\n",
        "\n",
        "  # Make prediction\n",
        "  prediction = model.predict(input_features)[0][0]\n",
        "  if prediction > 0.5:\n",
        "    return \"Malicious\"\n",
        "  else:\n",
        "    return \"Benign\"\n"
      ],
      "metadata": {
        "id": "-GEu5EipNW3U"
      },
      "execution_count": 52,
      "outputs": []
    },
    {
      "cell_type": "code",
      "source": [
        "iface = gr.Interface(\n",
        "  predict_malicious,\n",
        "  inputs=gr.File(label=\"Upload Memory Dump File (CSV)\"),\n",
        "  outputs=\"text\",\n",
        "  title=\"Memory Dump Malicious/Benign Predictor\"\n",
        ")\n",
        "\n",
        "iface.launch(share=True)"
      ],
      "metadata": {
        "colab": {
          "base_uri": "https://localhost:8080/",
          "height": 611
        },
        "id": "OH6t1oZJNadI",
        "outputId": "3dec24d5-3dbe-4f9e-b760-02ec467e598a"
      },
      "execution_count": 53,
      "outputs": [
        {
          "output_type": "stream",
          "name": "stdout",
          "text": [
            "Colab notebook detected. To show errors in colab notebook, set debug=True in launch()\n",
            "Running on public URL: https://2ed749e11e88c392d7.gradio.live\n",
            "\n",
            "This share link expires in 72 hours. For free permanent hosting and GPU upgrades, run `gradio deploy` from Terminal to deploy to Spaces (https://huggingface.co/spaces)\n"
          ]
        },
        {
          "output_type": "display_data",
          "data": {
            "text/plain": [
              "<IPython.core.display.HTML object>"
            ],
            "text/html": [
              "<div><iframe src=\"https://2ed749e11e88c392d7.gradio.live\" width=\"100%\" height=\"500\" allow=\"autoplay; camera; microphone; clipboard-read; clipboard-write;\" frameborder=\"0\" allowfullscreen></iframe></div>"
            ]
          },
          "metadata": {}
        },
        {
          "output_type": "execute_result",
          "data": {
            "text/plain": []
          },
          "metadata": {},
          "execution_count": 53
        }
      ]
    },
    {
      "cell_type": "markdown",
      "source": [
        "# Machine Learning Model Trainning"
      ],
      "metadata": {
        "id": "oaCGsMN6cd2A"
      }
    },
    {
      "cell_type": "code",
      "source": [
        "from sklearn.linear_model import LogisticRegression\n",
        "from sklearn.tree import DecisionTreeClassifier\n",
        "from sklearn.ensemble import RandomForestClassifier\n",
        "from sklearn.svm import SVC\n",
        "from sklearn.neighbors import KNeighborsClassifier\n",
        "from sklearn.metrics import accuracy_score, confusion_matrix, classification_report, precision_score, f1_score\n",
        "import seaborn as sns\n",
        "from sklearn.ensemble import AdaBoostClassifier, GradientBoostingClassifier"
      ],
      "metadata": {
        "id": "Shl8GrARRJQ7"
      },
      "execution_count": 46,
      "outputs": []
    },
    {
      "cell_type": "code",
      "source": [
        "models = {\n",
        "    'Logistic Regression': LogisticRegression(),\n",
        "    'Decision Tree': DecisionTreeClassifier(),\n",
        "    'Random Forest': RandomForestClassifier(),\n",
        "    'Support Vector Machine': SVC(),\n",
        "    'K-Nearest Neighbors': KNeighborsClassifier(),\n",
        "    'AdaBoost': AdaBoostClassifier(),\n",
        "    'Gradient Boosting': GradientBoostingClassifier()\n",
        "}"
      ],
      "metadata": {
        "id": "fcRzuciwRMWV"
      },
      "execution_count": 54,
      "outputs": []
    },
    {
      "cell_type": "code",
      "source": [
        "results = {}\n",
        "for name, model in models.items():\n",
        "    model.fit(X_train, y_train)\n",
        "    y_pred = model.predict(X_test)\n",
        "    accuracy = accuracy_score(y_test, y_pred)\n",
        "    precision = precision_score(y_test, y_pred, average='weighted')\n",
        "    f1 = f1_score(y_test, y_pred, average='weighted')\n",
        "    results[name] = {'Accuracy': accuracy, 'Precision': precision, 'F1 Score': f1}"
      ],
      "metadata": {
        "colab": {
          "base_uri": "https://localhost:8080/"
        },
        "id": "vIb4x7H1RO0s",
        "outputId": "a0bd0ffd-1c7f-49e6-b273-445ab33b62bd"
      },
      "execution_count": 55,
      "outputs": [
        {
          "output_type": "stream",
          "name": "stderr",
          "text": [
            "/usr/local/lib/python3.10/dist-packages/sklearn/linear_model/_logistic.py:458: ConvergenceWarning: lbfgs failed to converge (status=1):\n",
            "STOP: TOTAL NO. of ITERATIONS REACHED LIMIT.\n",
            "\n",
            "Increase the number of iterations (max_iter) or scale the data as shown in:\n",
            "    https://scikit-learn.org/stable/modules/preprocessing.html\n",
            "Please also refer to the documentation for alternative solver options:\n",
            "    https://scikit-learn.org/stable/modules/linear_model.html#logistic-regression\n",
            "  n_iter_i = _check_optimize_result(\n"
          ]
        }
      ]
    },
    {
      "cell_type": "code",
      "source": [
        "results"
      ],
      "metadata": {
        "colab": {
          "base_uri": "https://localhost:8080/"
        },
        "id": "hHlzubodRQ6i",
        "outputId": "f11532d6-e4fb-45c1-c8c7-6601fab0e5ad"
      },
      "execution_count": 56,
      "outputs": [
        {
          "output_type": "execute_result",
          "data": {
            "text/plain": [
              "{'Logistic Regression': {'Accuracy': 0.9989761092150171,\n",
              "  'Precision': 0.9989761688890125,\n",
              "  'F1 Score': 0.9989761099604462},\n",
              " 'Decision Tree': {'Accuracy': 0.9995733788395904,\n",
              "  'Precision': 0.9995733930649046,\n",
              "  'F1 Score': 0.9995733786749744},\n",
              " 'Random Forest': {'Accuracy': 1.0, 'Precision': 1.0, 'F1 Score': 1.0},\n",
              " 'Support Vector Machine': {'Accuracy': 0.9993174061433447,\n",
              "  'Precision': 0.9993174653402661,\n",
              "  'F1 Score': 0.9993174066402976},\n",
              " 'K-Nearest Neighbors': {'Accuracy': 0.9995733788395904,\n",
              "  'Precision': 0.9995737441599881,\n",
              "  'F1 Score': 0.9995733795694882},\n",
              " 'AdaBoost': {'Accuracy': 1.0, 'Precision': 1.0, 'F1 Score': 1.0},\n",
              " 'Gradient Boosting': {'Accuracy': 0.999914675767918,\n",
              "  'Precision': 0.9999146902615875,\n",
              "  'F1 Score': 0.9999146757349947}}"
            ]
          },
          "metadata": {},
          "execution_count": 56
        }
      ]
    },
    {
      "cell_type": "code",
      "source": [
        "rfc = RandomForestClassifier()\n",
        "\n",
        "rfc.fit(X_train, y_train)"
      ],
      "metadata": {
        "colab": {
          "base_uri": "https://localhost:8080/",
          "height": 74
        },
        "id": "gmJd4oiZRUzr",
        "outputId": "08b56259-e756-4ade-9e17-5a877f66ba3a"
      },
      "execution_count": 57,
      "outputs": [
        {
          "output_type": "execute_result",
          "data": {
            "text/plain": [
              "RandomForestClassifier()"
            ],
            "text/html": [
              "<style>#sk-container-id-1 {color: black;background-color: white;}#sk-container-id-1 pre{padding: 0;}#sk-container-id-1 div.sk-toggleable {background-color: white;}#sk-container-id-1 label.sk-toggleable__label {cursor: pointer;display: block;width: 100%;margin-bottom: 0;padding: 0.3em;box-sizing: border-box;text-align: center;}#sk-container-id-1 label.sk-toggleable__label-arrow:before {content: \"▸\";float: left;margin-right: 0.25em;color: #696969;}#sk-container-id-1 label.sk-toggleable__label-arrow:hover:before {color: black;}#sk-container-id-1 div.sk-estimator:hover label.sk-toggleable__label-arrow:before {color: black;}#sk-container-id-1 div.sk-toggleable__content {max-height: 0;max-width: 0;overflow: hidden;text-align: left;background-color: #f0f8ff;}#sk-container-id-1 div.sk-toggleable__content pre {margin: 0.2em;color: black;border-radius: 0.25em;background-color: #f0f8ff;}#sk-container-id-1 input.sk-toggleable__control:checked~div.sk-toggleable__content {max-height: 200px;max-width: 100%;overflow: auto;}#sk-container-id-1 input.sk-toggleable__control:checked~label.sk-toggleable__label-arrow:before {content: \"▾\";}#sk-container-id-1 div.sk-estimator input.sk-toggleable__control:checked~label.sk-toggleable__label {background-color: #d4ebff;}#sk-container-id-1 div.sk-label input.sk-toggleable__control:checked~label.sk-toggleable__label {background-color: #d4ebff;}#sk-container-id-1 input.sk-hidden--visually {border: 0;clip: rect(1px 1px 1px 1px);clip: rect(1px, 1px, 1px, 1px);height: 1px;margin: -1px;overflow: hidden;padding: 0;position: absolute;width: 1px;}#sk-container-id-1 div.sk-estimator {font-family: monospace;background-color: #f0f8ff;border: 1px dotted black;border-radius: 0.25em;box-sizing: border-box;margin-bottom: 0.5em;}#sk-container-id-1 div.sk-estimator:hover {background-color: #d4ebff;}#sk-container-id-1 div.sk-parallel-item::after {content: \"\";width: 100%;border-bottom: 1px solid gray;flex-grow: 1;}#sk-container-id-1 div.sk-label:hover label.sk-toggleable__label {background-color: #d4ebff;}#sk-container-id-1 div.sk-serial::before {content: \"\";position: absolute;border-left: 1px solid gray;box-sizing: border-box;top: 0;bottom: 0;left: 50%;z-index: 0;}#sk-container-id-1 div.sk-serial {display: flex;flex-direction: column;align-items: center;background-color: white;padding-right: 0.2em;padding-left: 0.2em;position: relative;}#sk-container-id-1 div.sk-item {position: relative;z-index: 1;}#sk-container-id-1 div.sk-parallel {display: flex;align-items: stretch;justify-content: center;background-color: white;position: relative;}#sk-container-id-1 div.sk-item::before, #sk-container-id-1 div.sk-parallel-item::before {content: \"\";position: absolute;border-left: 1px solid gray;box-sizing: border-box;top: 0;bottom: 0;left: 50%;z-index: -1;}#sk-container-id-1 div.sk-parallel-item {display: flex;flex-direction: column;z-index: 1;position: relative;background-color: white;}#sk-container-id-1 div.sk-parallel-item:first-child::after {align-self: flex-end;width: 50%;}#sk-container-id-1 div.sk-parallel-item:last-child::after {align-self: flex-start;width: 50%;}#sk-container-id-1 div.sk-parallel-item:only-child::after {width: 0;}#sk-container-id-1 div.sk-dashed-wrapped {border: 1px dashed gray;margin: 0 0.4em 0.5em 0.4em;box-sizing: border-box;padding-bottom: 0.4em;background-color: white;}#sk-container-id-1 div.sk-label label {font-family: monospace;font-weight: bold;display: inline-block;line-height: 1.2em;}#sk-container-id-1 div.sk-label-container {text-align: center;}#sk-container-id-1 div.sk-container {/* jupyter's `normalize.less` sets `[hidden] { display: none; }` but bootstrap.min.css set `[hidden] { display: none !important; }` so we also need the `!important` here to be able to override the default hidden behavior on the sphinx rendered scikit-learn.org. See: https://github.com/scikit-learn/scikit-learn/issues/21755 */display: inline-block !important;position: relative;}#sk-container-id-1 div.sk-text-repr-fallback {display: none;}</style><div id=\"sk-container-id-1\" class=\"sk-top-container\"><div class=\"sk-text-repr-fallback\"><pre>RandomForestClassifier()</pre><b>In a Jupyter environment, please rerun this cell to show the HTML representation or trust the notebook. <br />On GitHub, the HTML representation is unable to render, please try loading this page with nbviewer.org.</b></div><div class=\"sk-container\" hidden><div class=\"sk-item\"><div class=\"sk-estimator sk-toggleable\"><input class=\"sk-toggleable__control sk-hidden--visually\" id=\"sk-estimator-id-1\" type=\"checkbox\" checked><label for=\"sk-estimator-id-1\" class=\"sk-toggleable__label sk-toggleable__label-arrow\">RandomForestClassifier</label><div class=\"sk-toggleable__content\"><pre>RandomForestClassifier()</pre></div></div></div></div></div>"
            ]
          },
          "metadata": {},
          "execution_count": 57
        }
      ]
    },
    {
      "cell_type": "code",
      "source": [
        "y_pred_rfc = rfc.predict(X_test)\n",
        "\n",
        "cm = confusion_matrix(y_test, y_pred_rfc)\n",
        "\n",
        "plt.figure(figsize=(10, 8))\n",
        "sns.heatmap(cm, annot=True, fmt=\"d\", cmap=\"Blues\")\n",
        "plt.title('Confusion Matrix Of RandomForest')\n",
        "plt.ylabel('True label')\n",
        "plt.xlabel('Predicted label')\n",
        "plt.show()"
      ],
      "metadata": {
        "colab": {
          "base_uri": "https://localhost:8080/",
          "height": 718
        },
        "id": "6W4CfRF6SugE",
        "outputId": "3eac8595-4f05-4e92-b14b-a49ff9446ca8"
      },
      "execution_count": 58,
      "outputs": [
        {
          "output_type": "display_data",
          "data": {
            "text/plain": [
              "<Figure size 1000x800 with 2 Axes>"
            ],
            "image/png": "[encoded data removed]"
          },
          "metadata": {}
        }
      ]
    },
    {
      "cell_type": "code",
      "source": [
        "abc = AdaBoostClassifier()\n",
        "abc.fit(X_train, y_train)\n",
        "\n",
        "y_pred_abc = abc.predict(X_test)\n",
        "\n",
        "cm = confusion_matrix(y_test, y_pred_abc)\n",
        "\n",
        "plt.figure(figsize=(10, 8))\n",
        "sns.heatmap(cm, annot=True, fmt=\"d\", cmap=\"Blues\")\n",
        "plt.title('Confusion Matrix Of AdaBoost')\n",
        "plt.ylabel('True label')\n",
        "plt.xlabel('Predicted label')\n",
        "plt.show()"
      ],
      "metadata": {
        "id": "nmg8NdppSvEz",
        "colab": {
          "base_uri": "https://localhost:8080/",
          "height": 718
        },
        "outputId": "f168b4ca-9d6e-4c46-9726-35c05b8dc79a"
      },
      "execution_count": 59,
      "outputs": [
        {
          "output_type": "display_data",
          "data": {
            "text/plain": [
              "<Figure size 1000x800 with 2 Axes>"
            ],
            "image/png": "[encoded data removed]"
          },
          "metadata": {}
        }
      ]
    },
    {
      "cell_type": "code",
      "source": [
        "gb = GradientBoostingClassifier()\n",
        "gb.fit(X_train, y_train)\n",
        "\n",
        "y_pred_gb = gb.predict(X_test)\n",
        "\n",
        "cm = confusion_matrix(y_test, y_pred_gb)\n",
        "\n",
        "plt.figure(figsize=(10, 8))\n",
        "sns.heatmap(cm, annot=True, fmt=\"d\", cmap=\"Blues\")\n",
        "plt.title('Confusion Matrix Of GradientBoost')\n",
        "plt.ylabel('True label')\n",
        "plt.xlabel('Predicted label')\n",
        "plt.show()"
      ],
      "metadata": {
        "colab": {
          "base_uri": "https://localhost:8080/",
          "height": 718
        },
        "id": "Y50Brz_8PyXS",
        "outputId": "ef77da30-ef97-4adc-a017-d1fa4d3eb80d"
      },
      "execution_count": 60,
      "outputs": [
        {
          "output_type": "display_data",
          "data": {
            "text/plain": [
              "<Figure size 1000x800 with 2 Axes>"
            ],
            "image/png": "[encoded data removed]"
          },
          "metadata": {}
        }
      ]
    },
    {
      "cell_type": "code",
      "source": [],
      "metadata": {
        "id": "Txl9N4MPH0rR"
      },
      "execution_count": null,
      "outputs": []
    }
  ]
}